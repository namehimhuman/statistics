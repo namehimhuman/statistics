{
 "cells": [
  {
   "cell_type": "markdown",
   "id": "288f2df5-f008-45e5-a0af-af5cc7094264",
   "metadata": {},
   "source": [
    "For this exercise, then, we’ll assume that you run 10 km each day as part of your exercise\n",
    "regime. You want to know how long, on average, that run takes.\n",
    "Write a program that asks how long it took to run 10 km today. The program continues to\n",
    "ask how long (in minutes) it took for additional runs, until the user enters q. At that point,\n",
    "the program exits—but only after calculating and displaying the average time that the 10\n",
    "km run took.\n",
    "For example, here is what the program would look like if the user enters three data points:  \n",
    "Enter 10 km run time: 15  \n",
    "Enter 10 km run time: 20  \n",
    "Enter 10 km run time: 10  \n",
    "Enter 10 km run time: q  \n",
    "Average of 15.0, over 3 runs"
   ]
  },
  {
   "cell_type": "code",
   "execution_count": null,
   "id": "8acaebbe-fb46-48dc-ab3f-e60ecc1363f6",
   "metadata": {},
   "outputs": [],
   "source": []
  }
 ],
 "metadata": {
  "kernelspec": {
   "display_name": "Python 3 (ipykernel)",
   "language": "python",
   "name": "python3"
  },
  "language_info": {
   "codemirror_mode": {
    "name": "ipython",
    "version": 3
   },
   "file_extension": ".py",
   "mimetype": "text/x-python",
   "name": "python",
   "nbconvert_exporter": "python",
   "pygments_lexer": "ipython3",
   "version": "3.12.7"
  }
 },
 "nbformat": 4,
 "nbformat_minor": 5
}
