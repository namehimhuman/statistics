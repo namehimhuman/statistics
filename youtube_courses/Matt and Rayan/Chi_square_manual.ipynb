{
 "cells": [
  {
   "cell_type": "code",
   "execution_count": 6,
   "id": "e0aa2bb8-285f-4d47-a72b-ad72a2dabe20",
   "metadata": {},
   "outputs": [],
   "source": [
    "import numpy as np\n",
    "import scipy.stats as stats"
   ]
  },
  {
   "cell_type": "code",
   "execution_count": 7,
   "id": "d9244624-dfdf-40b9-a80c-a2ff8fbe681a",
   "metadata": {},
   "outputs": [],
   "source": [
    "alpha = 0.05"
   ]
  },
  {
   "cell_type": "code",
   "execution_count": 8,
   "id": "5c807ceb-af53-46e7-9df5-129c4a367f75",
   "metadata": {},
   "outputs": [],
   "source": [
    "observed = np.array([\n",
    "    [40,30,10],\n",
    "    [80, 20, 20]\n",
    "])"
   ]
  },
  {
   "cell_type": "code",
   "execution_count": 17,
   "id": "8081a46b-25a9-4e13-97eb-c6f8c9dca6ea",
   "metadata": {},
   "outputs": [],
   "source": [
    "row_totals =observed.sum(axis=1)\n",
    "col_totals = observed.sum(axis=0)\n",
    "grand_total = observed.sum()\n",
    "expected = np.outer(row_totals, col_totals)/grand_total"
   ]
  },
  {
   "cell_type": "code",
   "execution_count": 18,
   "id": "1607a419-b68d-4690-88c9-41b2b3c460cb",
   "metadata": {},
   "outputs": [
    {
     "data": {
      "text/plain": [
       "array([[48., 20., 12.],\n",
       "       [72., 30., 18.]])"
      ]
     },
     "execution_count": 18,
     "metadata": {},
     "output_type": "execute_result"
    }
   ],
   "source": [
    "expected"
   ]
  },
  {
   "cell_type": "code",
   "execution_count": 23,
   "id": "e286a4d3-79a5-4966-8d95-ebf642236438",
   "metadata": {},
   "outputs": [],
   "source": [
    "chi_square = ((observed-expected)**2/expected).sum()"
   ]
  },
  {
   "cell_type": "code",
   "execution_count": 24,
   "id": "5f869dfd-e792-4e60-999e-3571eb68e945",
   "metadata": {},
   "outputs": [
    {
     "data": {
      "text/plain": [
       "np.float64(11.11111111111111)"
      ]
     },
     "execution_count": 24,
     "metadata": {},
     "output_type": "execute_result"
    }
   ],
   "source": [
    "chi_square"
   ]
  },
  {
   "cell_type": "code",
   "execution_count": 25,
   "id": "de94991c-13b2-4b07-8d44-f18977608de9",
   "metadata": {},
   "outputs": [],
   "source": [
    "degrees_of_freedom = (observed.shape[0]-1)*(observed.shape[1]-1)"
   ]
  },
  {
   "cell_type": "code",
   "execution_count": 26,
   "id": "853e2a52-d50b-43e9-b402-1d2e42a03bec",
   "metadata": {},
   "outputs": [
    {
     "data": {
      "text/plain": [
       "2"
      ]
     },
     "execution_count": 26,
     "metadata": {},
     "output_type": "execute_result"
    }
   ],
   "source": [
    "degrees_of_freedom"
   ]
  },
  {
   "cell_type": "code",
   "execution_count": 28,
   "id": "64d90e9f-1499-4656-b3c2-7d551855d6a2",
   "metadata": {},
   "outputs": [
    {
     "data": {
      "text/plain": [
       "np.float64(0.003865920139472845)"
      ]
     },
     "execution_count": 28,
     "metadata": {},
     "output_type": "execute_result"
    }
   ],
   "source": [
    "p_value = 1 - stats.chi2.cdf(chi_square, degrees_of_freedom)\n",
    "p_value"
   ]
  },
  {
   "cell_type": "code",
   "execution_count": 30,
   "id": "5b68191d-63cc-4590-956d-917dd0a5397a",
   "metadata": {},
   "outputs": [],
   "source": [
    "chi2, p_value, degrees_of_freedom, expected_values = stats.chi2_contingency(observed)"
   ]
  },
  {
   "cell_type": "code",
   "execution_count": 31,
   "id": "f5d4cdc7-300b-49b9-8c63-806c28a15e94",
   "metadata": {},
   "outputs": [
    {
     "data": {
      "text/plain": [
       "np.float64(11.11111111111111)"
      ]
     },
     "execution_count": 31,
     "metadata": {},
     "output_type": "execute_result"
    }
   ],
   "source": [
    "chi2"
   ]
  },
  {
   "cell_type": "code",
   "execution_count": 32,
   "id": "5b8c39f6-7528-451c-b5c7-19f63518c165",
   "metadata": {},
   "outputs": [
    {
     "data": {
      "text/plain": [
       "np.float64(0.0038659201394728067)"
      ]
     },
     "execution_count": 32,
     "metadata": {},
     "output_type": "execute_result"
    }
   ],
   "source": [
    "p_value"
   ]
  },
  {
   "cell_type": "code",
   "execution_count": 33,
   "id": "7169d4e3-e3bf-4244-b9ab-2f63c3a458f8",
   "metadata": {},
   "outputs": [
    {
     "data": {
      "text/plain": [
       "2"
      ]
     },
     "execution_count": 33,
     "metadata": {},
     "output_type": "execute_result"
    }
   ],
   "source": [
    "degrees_of_freedom"
   ]
  },
  {
   "cell_type": "code",
   "execution_count": 34,
   "id": "e0f7762e-51f3-45ec-8fb4-33d076895f77",
   "metadata": {},
   "outputs": [
    {
     "data": {
      "text/plain": [
       "array([[48., 20., 12.],\n",
       "       [72., 30., 18.]])"
      ]
     },
     "execution_count": 34,
     "metadata": {},
     "output_type": "execute_result"
    }
   ],
   "source": [
    "expected_values"
   ]
  },
  {
   "cell_type": "code",
   "execution_count": null,
   "id": "22f814dc-e8a2-48e4-829c-8dd5cf5c32db",
   "metadata": {},
   "outputs": [],
   "source": []
  }
 ],
 "metadata": {
  "kernelspec": {
   "display_name": "Python 3 (ipykernel)",
   "language": "python",
   "name": "python3"
  },
  "language_info": {
   "codemirror_mode": {
    "name": "ipython",
    "version": 3
   },
   "file_extension": ".py",
   "mimetype": "text/x-python",
   "name": "python",
   "nbconvert_exporter": "python",
   "pygments_lexer": "ipython3",
   "version": "3.12.7"
  }
 },
 "nbformat": 4,
 "nbformat_minor": 5
}
