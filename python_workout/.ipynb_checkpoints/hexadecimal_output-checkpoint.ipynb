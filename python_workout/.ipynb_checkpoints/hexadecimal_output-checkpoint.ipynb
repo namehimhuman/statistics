{
 "cells": [
  {
   "cell_type": "code",
   "execution_count": 1,
   "id": "7242fd69-40b1-4618-be74-6910eaea71b0",
   "metadata": {},
   "outputs": [
    {
     "name": "stdout",
     "output_type": "stream",
     "text": [
      "0, a\n",
      "1, b\n",
      "2, c\n",
      "3, d\n"
     ]
    }
   ],
   "source": [
    "for index, one_letter in enumerate('abcd'):\n",
    "    print(f'{index}, {one_letter}')"
   ]
  },
  {
   "cell_type": "code",
   "execution_count": null,
   "id": "b2ecd8b0-9d14-42e3-8ef4-0cd0419d8a00",
   "metadata": {},
   "outputs": [],
   "source": []
  }
 ],
 "metadata": {
  "kernelspec": {
   "display_name": "Python 3 (ipykernel)",
   "language": "python",
   "name": "python3"
  },
  "language_info": {
   "codemirror_mode": {
    "name": "ipython",
    "version": 3
   },
   "file_extension": ".py",
   "mimetype": "text/x-python",
   "name": "python",
   "nbconvert_exporter": "python",
   "pygments_lexer": "ipython3",
   "version": "3.12.7"
  }
 },
 "nbformat": 4,
 "nbformat_minor": 5
}
