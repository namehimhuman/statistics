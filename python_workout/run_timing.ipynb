{
 "cells": [
  {
   "cell_type": "markdown",
   "id": "b353577d-c382-4224-9f0e-71b994f01108",
   "metadata": {},
   "source": [
    "For this exercise, then, we’ll assume that you run 10 km each day as part of your\n",
    "exercise regime. You want to know how long, on average, that run takes.\n",
    "Write a function (run_timing) that asks how long it took for you to run 10 km.\n",
    "The function continues to ask how long (in minutes) it took for additional runs, until\n",
    "the user presses Enter. At that point, the function exits—but only after calculating and\n",
    "displaying the average time that the 10 km runs took.\n",
    "For example, here’s what the output would look like if the user entered three data\n",
    "points:  \n",
    "Enter 10 km run time: 15  \n",
    "Enter 10 km run time: 20  \n",
    "Enter 10 km run time: 10  \n",
    "Enter 10 km run time: <enter>  \n",
    "Average of 15.0, over 3 runs"
   ]
  },
  {
   "cell_type": "code",
   "execution_count": 3,
   "id": "086d7214-ed09-42ab-8795-49408f57ac63",
   "metadata": {},
   "outputs": [],
   "source": [
    "def run_timing():\n",
    "    number_of_runs = 0\n",
    "    total_time = 0\n",
    "    while True:\n",
    "        one_run = input('Enter 10 km runtime')\n",
    "        if not one_run:\n",
    "            break\n",
    "        number_of_runs += 1\n",
    "        total_time += float(one_run)\n",
    "    average_time = total_time/number_of_runs\n",
    "    print(f'Average time of {average_time} over {number_of_runs} number of runs')"
   ]
  },
  {
   "cell_type": "code",
   "execution_count": 4,
   "id": "65aacb17-6192-4978-be3c-cbacf392a267",
   "metadata": {},
   "outputs": [
    {
     "name": "stdin",
     "output_type": "stream",
     "text": [
      "Enter 10 km runtime 4\n",
      "Enter 10 km runtime 5\n",
      "Enter 10 km runtime 10\n",
      "Enter 10 km runtime 3\n",
      "Enter 10 km runtime \n"
     ]
    },
    {
     "name": "stdout",
     "output_type": "stream",
     "text": [
      "Average time of 5.5 over 4 number of runs\n"
     ]
    }
   ],
   "source": [
    "run_timing()"
   ]
  },
  {
   "cell_type": "code",
   "execution_count": null,
   "id": "41588b36-eb2f-4496-952c-01e09caf518c",
   "metadata": {},
   "outputs": [],
   "source": []
  }
 ],
 "metadata": {
  "kernelspec": {
   "display_name": "Python 3 (ipykernel)",
   "language": "python",
   "name": "python3"
  },
  "language_info": {
   "codemirror_mode": {
    "name": "ipython",
    "version": 3
   },
   "file_extension": ".py",
   "mimetype": "text/x-python",
   "name": "python",
   "nbconvert_exporter": "python",
   "pygments_lexer": "ipython3",
   "version": "3.12.7"
  }
 },
 "nbformat": 4,
 "nbformat_minor": 5
}
