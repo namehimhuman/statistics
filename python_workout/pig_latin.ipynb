{
 "cells": [
  {
   "cell_type": "markdown",
   "id": "27df226d-da15-4b81-b99b-07e989af3d17",
   "metadata": {},
   "source": [
    "Pig Latin (http://mng.bz/YrON) is a common children’s “secret” language in English-\n",
    "speaking countries. (It’s normally secret among children who forget that their parents\n",
    "were once children themselves.) The rules for translating words from English into Pig\n",
    "Latin are quite simple:  \n",
    "If the word begins with a vowel (a, e, i, o, or u), add “way” to the end of the\n",
    "word. So “air” becomes “airway” and “eat” becomes “eatway.”  \n",
    "If the word begins with any other letter, then we take the first letter, put it on\n",
    "the end of the word, and then add “ay.” Thus, “python” becomes “ythonpay”\n",
    "and “computer” becomes “omputercay.”  \n",
    "(And yes, I recognize that the rules can be made more sophisticated. Let’s keep it sim-\n",
    "ple for the purposes of this exercise.)  \n",
    "For this exercise, write a Python function (pig_latin) that takes a string as input,\n",
    "assumed to be an English word. The function should return the translation of this word\n",
    "into Pig Latin. You may assume that the word contains no capital letters or punctuation."
   ]
  },
  {
   "cell_type": "code",
   "execution_count": 6,
   "id": "a5350690-4ab2-42e8-9dee-4dd4a2109dcc",
   "metadata": {},
   "outputs": [],
   "source": [
    "def pig_latin(word):\n",
    "    if word[0] in 'aeiou':\n",
    "        return f'{word}way'\n",
    "    return f'{word[1:]}{word[0]}ay'"
   ]
  },
  {
   "cell_type": "code",
   "execution_count": 7,
   "id": "86727389-1530-45ff-b375-c8685b212d70",
   "metadata": {},
   "outputs": [
    {
     "data": {
      "text/plain": [
       "'ogday'"
      ]
     },
     "execution_count": 7,
     "metadata": {},
     "output_type": "execute_result"
    }
   ],
   "source": [
    "pig_latin('dog')"
   ]
  },
  {
   "cell_type": "code",
   "execution_count": 8,
   "id": "c9911f37-0870-47f7-ba9a-9c2b6459d057",
   "metadata": {},
   "outputs": [
    {
     "data": {
      "text/plain": [
       "'americaway'"
      ]
     },
     "execution_count": 8,
     "metadata": {},
     "output_type": "execute_result"
    }
   ],
   "source": [
    "pig_latin('america')\n"
   ]
  },
  {
   "cell_type": "code",
   "execution_count": 9,
   "id": "743a1865-150f-4190-b502-8203a4830457",
   "metadata": {},
   "outputs": [
    {
     "data": {
      "text/plain": [
       "'aggotfay'"
      ]
     },
     "execution_count": 9,
     "metadata": {},
     "output_type": "execute_result"
    }
   ],
   "source": [
    "pig_latin('faggot')"
   ]
  },
  {
   "cell_type": "code",
   "execution_count": null,
   "id": "2ddb25de-9038-4e8c-8de3-c7a3ef1e0b4a",
   "metadata": {},
   "outputs": [],
   "source": []
  }
 ],
 "metadata": {
  "kernelspec": {
   "display_name": "Python 3 (ipykernel)",
   "language": "python",
   "name": "python3"
  },
  "language_info": {
   "codemirror_mode": {
    "name": "ipython",
    "version": 3
   },
   "file_extension": ".py",
   "mimetype": "text/x-python",
   "name": "python",
   "nbconvert_exporter": "python",
   "pygments_lexer": "ipython3",
   "version": "3.12.7"
  }
 },
 "nbformat": 4,
 "nbformat_minor": 5
}
