{
 "cells": [
  {
   "cell_type": "code",
   "execution_count": 38,
   "id": "c7db048f-1842-4e1d-8799-d47981f32087",
   "metadata": {},
   "outputs": [],
   "source": [
    "import numpy as np\n",
    "from tqdm import tqdm"
   ]
  },
  {
   "cell_type": "markdown",
   "id": "bf7694ce-8cb9-4d4f-930d-f31c020cf485",
   "metadata": {},
   "source": [
    "Variance(var)"
   ]
  },
  {
   "cell_type": "code",
   "execution_count": 28,
   "id": "c3105d3b-ba4e-427f-86d4-996bc4c92bbc",
   "metadata": {},
   "outputs": [],
   "source": [
    "data = [2,4,2,4,6,9,3,2]"
   ]
  },
  {
   "cell_type": "code",
   "execution_count": 24,
   "id": "b5517e9f-4b9a-48af-b1d3-274391d2ce38",
   "metadata": {},
   "outputs": [],
   "source": [
    "def calculate_var(data, is_sample=False):\n",
    "    n = len(data)\n",
    "    mean = sum(data)/n\n",
    "    #sum of square diff from the mean\n",
    "    sum_square_diff = sum((x - mean)**2 for x in data)\n",
    "    denominator = n - 1 if is_sample else n\n",
    "    variance = sum_square_diff/denominator\n",
    "    return variance"
   ]
  },
  {
   "cell_type": "markdown",
   "id": "e084aaab-532a-4c8a-92f9-98c9ad852731",
   "metadata": {},
   "source": [
    "Standard deviation(std)"
   ]
  },
  {
   "cell_type": "code",
   "execution_count": 25,
   "id": "d4337be4-815b-4fb2-af97-89e7b5ce325a",
   "metadata": {},
   "outputs": [],
   "source": [
    "def calculate_std(data):\n",
    "    var = calculate_variance(data)\n",
    "    std = var**0.5\n",
    "    return std"
   ]
  },
  {
   "cell_type": "markdown",
   "id": "41006f20-d478-4a1f-8a61-cca02c7c9f66",
   "metadata": {},
   "source": [
    "Standard error of the mean(SEM)"
   ]
  },
  {
   "cell_type": "code",
   "execution_count": 27,
   "id": "b88974c2-ca3c-4a3e-b3cd-805bfe7dc010",
   "metadata": {},
   "outputs": [],
   "source": [
    "def calculate_sem(data):\n",
    "    std = calculate_std(data)\n",
    "    n  = len(data)\n",
    "    sem = std/n**0.5\n",
    "    return sem\n",
    "    \n"
   ]
  },
  {
   "cell_type": "markdown",
   "id": "8641af16-0bec-468d-8f72-175a89b1fc75",
   "metadata": {},
   "source": [
    "Bootstrapping standard error of the mean(SEM)"
   ]
  },
  {
   "cell_type": "code",
   "execution_count": 45,
   "id": "3ff04600-7b26-4e70-8912-4a45575d24d6",
   "metadata": {},
   "outputs": [],
   "source": [
    "def bootstrap_sem(data, n_bootstrap=10000):\n",
    "    n = len(data)\n",
    "    bootstrap_means = []\n",
    "    for i in tqdm(range(n_bootstrap)):\n",
    "        # Resample with replacement\n",
    "        bootstrap_sample = np.random.choice(data, size=n, replace=True)\n",
    "        bootstrap_means.append(np.mean(bootstrap_sample))\n",
    "    sem = calculate_std(bootstrap_means)\n",
    "    \n",
    "    return sem"
   ]
  },
  {
   "cell_type": "code",
   "execution_count": 46,
   "id": "82a990a0-e80e-4f1b-9c00-2ea4ea59fc7e",
   "metadata": {},
   "outputs": [
    {
     "name": "stderr",
     "output_type": "stream",
     "text": [
      "100%|██████████| 10000/10000 [00:00<00:00, 11618.52it/s]\n"
     ]
    },
    {
     "data": {
      "text/plain": [
       "np.float64(0.8051926593019525)"
      ]
     },
     "execution_count": 46,
     "metadata": {},
     "output_type": "execute_result"
    }
   ],
   "source": [
    "bootstrap_sem(data)"
   ]
  },
  {
   "cell_type": "code",
   "execution_count": 47,
   "id": "dcbb05f5-b976-4f3d-b189-e5e9cbb4fc9f",
   "metadata": {},
   "outputs": [
    {
     "data": {
      "text/plain": [
       "0.8100925873009824"
      ]
     },
     "execution_count": 47,
     "metadata": {},
     "output_type": "execute_result"
    }
   ],
   "source": [
    "calculate_sem(data)"
   ]
  },
  {
   "cell_type": "code",
   "execution_count": null,
   "id": "35ff63f8-c198-4b84-b92f-8137d18617da",
   "metadata": {},
   "outputs": [],
   "source": []
  }
 ],
 "metadata": {
  "kernelspec": {
   "display_name": "Python 3 (ipykernel)",
   "language": "python",
   "name": "python3"
  },
  "language_info": {
   "codemirror_mode": {
    "name": "ipython",
    "version": 3
   },
   "file_extension": ".py",
   "mimetype": "text/x-python",
   "name": "python",
   "nbconvert_exporter": "python",
   "pygments_lexer": "ipython3",
   "version": "3.12.7"
  }
 },
 "nbformat": 4,
 "nbformat_minor": 5
}
