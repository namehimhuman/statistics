{
 "cells": [
  {
   "cell_type": "code",
   "execution_count": 16,
   "id": "c7db048f-1842-4e1d-8799-d47981f32087",
   "metadata": {},
   "outputs": [],
   "source": [
    "import numpy as np\n",
    "from tqdm import tqdm\n",
    "from scipy import stats"
   ]
  },
  {
   "cell_type": "code",
   "execution_count": 28,
   "id": "c3105d3b-ba4e-427f-86d4-996bc4c92bbc",
   "metadata": {},
   "outputs": [],
   "source": [
    "data = [2,4,2,4,6,9,3,2]"
   ]
  },
  {
   "cell_type": "markdown",
   "id": "73307558-3521-4bcf-8778-cf1144460a2e",
   "metadata": {},
   "source": [
    "# Variance, for-cycle, iteration over list"
   ]
  },
  {
   "cell_type": "code",
   "execution_count": 3,
   "id": "192da193-4600-4db0-9e41-c6812f166120",
   "metadata": {},
   "outputs": [],
   "source": [
    "def calculate_var(data, is_sample=False):\n",
    "    n = len(data)\n",
    "    mean = sum(data)/n\n",
    "    sum_square_dist = 0\n",
    "    for value in data:\n",
    "        square_dist = (value-mean)**2\n",
    "        sum_square_dist += square_dist\n",
    "    denominator = n+1 if is_sample else n\n",
    "    var = sum_square_dist/denominator\n",
    "    return var\n",
    "        "
   ]
  },
  {
   "cell_type": "code",
   "execution_count": 4,
   "id": "19eb95ef-cbf4-481c-be83-172f43a35e8b",
   "metadata": {},
   "outputs": [
    {
     "data": {
      "text/plain": [
       "5.25"
      ]
     },
     "execution_count": 4,
     "metadata": {},
     "output_type": "execute_result"
    }
   ],
   "source": [
    "calculate_var(data)"
   ]
  },
  {
   "cell_type": "code",
   "execution_count": 5,
   "id": "89181c01-a43d-4b25-a715-6d35cc1e457c",
   "metadata": {},
   "outputs": [
    {
     "data": {
      "text/plain": [
       "np.float64(5.25)"
      ]
     },
     "execution_count": 5,
     "metadata": {},
     "output_type": "execute_result"
    }
   ],
   "source": [
    "np.array(data).var()"
   ]
  },
  {
   "cell_type": "markdown",
   "id": "a412afdb-31a0-419b-8ae6-55b62eaa7277",
   "metadata": {},
   "source": [
    "# Variance using generator expression"
   ]
  },
  {
   "cell_type": "code",
   "execution_count": 6,
   "id": "b5517e9f-4b9a-48af-b1d3-274391d2ce38",
   "metadata": {},
   "outputs": [],
   "source": [
    "def calculate_var(data, is_sample=False):\n",
    "    n = len(data)\n",
    "    mean = sum(data)/n\n",
    "    #sum of square diff from the mean\n",
    "    sum_square_diff = sum((x - mean)**2 for x in data)\n",
    "    denominator = n - 1 if is_sample else n\n",
    "    variance = sum_square_diff/denominator\n",
    "    return variance"
   ]
  },
  {
   "cell_type": "markdown",
   "id": "e084aaab-532a-4c8a-92f9-98c9ad852731",
   "metadata": {},
   "source": [
    "# Standard deviation(std)"
   ]
  },
  {
   "cell_type": "code",
   "execution_count": 7,
   "id": "d4337be4-815b-4fb2-af97-89e7b5ce325a",
   "metadata": {},
   "outputs": [],
   "source": [
    "def calculate_std(data):\n",
    "    var = calculate_var(data)\n",
    "    std = var**0.5\n",
    "    return std"
   ]
  },
  {
   "cell_type": "markdown",
   "id": "41006f20-d478-4a1f-8a61-cca02c7c9f66",
   "metadata": {},
   "source": [
    "# Standard error of the mean(SEM)"
   ]
  },
  {
   "cell_type": "code",
   "execution_count": 8,
   "id": "b88974c2-ca3c-4a3e-b3cd-805bfe7dc010",
   "metadata": {},
   "outputs": [],
   "source": [
    "def calculate_sem(data):\n",
    "    std = calculate_std(data)\n",
    "    n  = len(data)\n",
    "    sem = std/n**0.5\n",
    "    return sem\n",
    "    \n"
   ]
  },
  {
   "cell_type": "markdown",
   "id": "8641af16-0bec-468d-8f72-175a89b1fc75",
   "metadata": {},
   "source": [
    "# Bootstrapping standard error of the mean(SEM)"
   ]
  },
  {
   "cell_type": "code",
   "execution_count": 9,
   "id": "3ff04600-7b26-4e70-8912-4a45575d24d6",
   "metadata": {},
   "outputs": [],
   "source": [
    "def bootstrap_sem(data, n_bootstrap=10000):\n",
    "    n = len(data)\n",
    "    bootstrap_means = []\n",
    "    for i in tqdm(range(n_bootstrap)):\n",
    "        # Resample with replacement\n",
    "        bootstrap_sample = np.random.choice(data, size=n, replace=True)\n",
    "        bootstrap_means.append(np.mean(bootstrap_sample))\n",
    "    sem = calculate_std(bootstrap_means)\n",
    "    \n",
    "    return sem"
   ]
  },
  {
   "cell_type": "code",
   "execution_count": 10,
   "id": "82a990a0-e80e-4f1b-9c00-2ea4ea59fc7e",
   "metadata": {},
   "outputs": [
    {
     "name": "stderr",
     "output_type": "stream",
     "text": [
      "100%|██████████| 10000/10000 [00:00<00:00, 12960.31it/s]\n"
     ]
    },
    {
     "data": {
      "text/plain": [
       "np.float64(0.8084127345452933)"
      ]
     },
     "execution_count": 10,
     "metadata": {},
     "output_type": "execute_result"
    }
   ],
   "source": [
    "bootstrap_sem(data)"
   ]
  },
  {
   "cell_type": "markdown",
   "id": "e0230bff-3440-4015-b52c-1e62c0ef1851",
   "metadata": {},
   "source": [
    "# Vectorized bootstraping SEM"
   ]
  },
  {
   "cell_type": "code",
   "execution_count": 11,
   "id": "8d48031f-99ba-4045-9fa4-9484ef43a9bd",
   "metadata": {},
   "outputs": [],
   "source": [
    "def vectorized_bootstrap_sem(data, n_bootstraps = 10_000):\n",
    "    n = len(data)\n",
    "    boot_sample = np.random.choice(data, size=(n_bootstraps, n), replace=True)\n",
    "    boots_means = np.mean(boot_sample, axis=1)\n",
    "    boot_sem = calculate_sem(boots_means)\n",
    "    return boot_sem"
   ]
  },
  {
   "cell_type": "code",
   "execution_count": 21,
   "id": "a4237895-9f5a-4fb1-a1eb-b1d69a45fa7c",
   "metadata": {},
   "outputs": [],
   "source": [
    "sem = vectorized_bootstrap_sem(data)"
   ]
  },
  {
   "cell_type": "code",
   "execution_count": 13,
   "id": "41419ca7-f48a-4d41-975e-895c0c3e1f1f",
   "metadata": {},
   "outputs": [
    {
     "name": "stderr",
     "output_type": "stream",
     "text": [
      "100%|██████████| 10000/10000 [00:00<00:00, 11286.36it/s]\n"
     ]
    },
    {
     "data": {
      "text/plain": [
       "np.float64(0.8049038416947679)"
      ]
     },
     "execution_count": 13,
     "metadata": {},
     "output_type": "execute_result"
    }
   ],
   "source": [
    "bootstrap_sem(data)"
   ]
  },
  {
   "cell_type": "code",
   "execution_count": 14,
   "id": "57898c91-2833-4b70-b88c-4a6eb3015c39",
   "metadata": {},
   "outputs": [
    {
     "data": {
      "text/plain": [
       "0.8100925873009824"
      ]
     },
     "execution_count": 14,
     "metadata": {},
     "output_type": "execute_result"
    }
   ],
   "source": [
    "calculate_sem(data)"
   ]
  },
  {
   "cell_type": "markdown",
   "id": "ededb94f-7da3-4a18-beb3-0a073c42e813",
   "metadata": {},
   "source": [
    "# Calculate the 95% t confidence interval for mean"
   ]
  },
  {
   "cell_type": "code",
   "execution_count": 35,
   "id": "e77194f0-5476-4975-96a1-1c8e17315ee3",
   "metadata": {},
   "outputs": [],
   "source": [
    "def calculate_t_confidence_interval(data, confidedence_level=0.95):\n",
    "    data = np.array(data)\n",
    "    \n",
    "    n = len(data)\n",
    "    x_bar = np.mean(data)\n",
    "    standard_error = calculate_sem(data)\n",
    "    \n",
    "    #degrees of freedom\n",
    "    dof = n-1\n",
    "    \n",
    "    #calculate critival t value\n",
    "    alpha = 1 - confidedence_level\n",
    "    t_critical = stats.t.ppf(1-alpha/2, dof)\n",
    "\n",
    "    #margin of error\n",
    "    margin_of_error = t_critical * standard_error\n",
    "\n",
    "    # Confidence interval\n",
    "    lower_bound = x_bar - margin_of_error\n",
    "    upper_bound = x_bar + margin_of_error\n",
    "    \n",
    "    return x_bar, lower_bound, upper_bound, margin_of_error"
   ]
  },
  {
   "cell_type": "code",
   "execution_count": 34,
   "id": "b0992be1-1870-4ffa-b436-a4bec7b4906c",
   "metadata": {},
   "outputs": [
    {
     "data": {
      "text/plain": [
       "(np.float64(4.0),\n",
       " np.float64(2.084435422032552),\n",
       " np.float64(5.915564577967448),\n",
       " np.float64(1.915564577967448))"
      ]
     },
     "execution_count": 34,
     "metadata": {},
     "output_type": "execute_result"
    }
   ],
   "source": [
    "calculate_t_confidence_interval(data)"
   ]
  },
  {
   "cell_type": "code",
   "execution_count": null,
   "id": "9b992ee7-2d51-4787-842c-86c67455ef27",
   "metadata": {},
   "outputs": [],
   "source": []
  }
 ],
 "metadata": {
  "kernelspec": {
   "display_name": "Python 3 (ipykernel)",
   "language": "python",
   "name": "python3"
  },
  "language_info": {
   "codemirror_mode": {
    "name": "ipython",
    "version": 3
   },
   "file_extension": ".py",
   "mimetype": "text/x-python",
   "name": "python",
   "nbconvert_exporter": "python",
   "pygments_lexer": "ipython3",
   "version": "3.12.7"
  }
 },
 "nbformat": 4,
 "nbformat_minor": 5
}
