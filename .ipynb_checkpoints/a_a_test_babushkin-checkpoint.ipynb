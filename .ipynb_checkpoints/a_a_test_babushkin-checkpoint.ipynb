{
 "cells": [
  {
   "cell_type": "code",
   "execution_count": 2,
   "id": "8c97f3f0d0a73f2a",
   "metadata": {
    "ExecuteTime": {
     "end_time": "2025-04-22T16:41:00.443913Z",
     "start_time": "2025-04-22T16:40:59.648014Z"
    }
   },
   "outputs": [],
   "source": [
    "import numpy as np\n",
    "from scipy.stats import ttest_ind\n",
    "from tqdm import tqdm\n",
    "from matplotlib import pyplot as plt\n"
   ]
  },
  {
   "cell_type": "code",
   "execution_count": 3,
   "id": "8e55fe2c71f3d7fe",
   "metadata": {
    "ExecuteTime": {
     "end_time": "2025-04-22T17:37:05.474055Z",
     "start_time": "2025-04-22T17:37:01.811053Z"
    }
   },
   "outputs": [
    {
     "name": "stderr",
     "output_type": "stream",
     "text": [
      "100%|██████████| 1000/1000 [00:03<00:00, 298.89it/s]"
     ]
    },
    {
     "name": "stdout",
     "output_type": "stream",
     "text": [
      "0.052\n"
     ]
    },
    {
     "name": "stderr",
     "output_type": "stream",
     "text": [
      "\n"
     ]
    }
   ],
   "source": [
    "mean = 100\n",
    "p_value = []\n",
    "counter = 0\n",
    "iterations = 1000\n",
    "for x in tqdm(range(iterations)):\n",
    "    normal_distr1 = np.random.normal(100, 5, 1000)\n",
    "    normal_distr2 = np.random.normal(100, 5, 1000)\n",
    "    result = ttest_ind(normal_distr1, normal_distr2)\n",
    "    p_value.append(result.pvalue)\n",
    "    if result.pvalue < 0.05:\n",
    "        counter += 1\n",
    "print(counter/iterations)\n"
   ]
  },
  {
   "cell_type": "code",
   "execution_count": 6,
   "id": "406279a244316fc",
   "metadata": {
    "ExecuteTime": {
     "end_time": "2025-04-22T17:33:34.272082Z",
     "start_time": "2025-04-22T17:33:33.966512Z"
    }
   },
   "outputs": [
    {
     "data": {
      "text/plain": [
       "(array([ 90.,  97., 106., 106., 111.,  81.,  95., 106.,  98., 110.]),\n",
       " array([2.88460409e-04, 1.00142747e-01, 1.99997033e-01, 2.99851319e-01,\n",
       "        3.99705605e-01, 4.99559891e-01, 5.99414178e-01, 6.99268464e-01,\n",
       "        7.99122750e-01, 8.98977036e-01, 9.98831322e-01]),\n",
       " <BarContainer object of 10 artists>)"
      ]
     },
     "execution_count": 6,
     "metadata": {},
     "output_type": "execute_result"
    },
    {
     "data": {
      "image/png": "[encoded data removed]",
      "text/plain": [
       "<Figure size 640x480 with 1 Axes>"
      ]
     },
     "metadata": {},
     "output_type": "display_data"
    }
   ],
   "source": [
    "plt.hist(p_value)"
   ]
  },
  {
   "cell_type": "code",
   "execution_count": null,
   "id": "97959b62-7159-4d8c-bc48-e9a297e8fd6f",
   "metadata": {},
   "outputs": [],
   "source": []
  }
 ],
 "metadata": {
  "kernelspec": {
   "display_name": "Python 3 (ipykernel)",
   "language": "python",
   "name": "python3"
  },
  "language_info": {
   "codemirror_mode": {
    "name": "ipython",
    "version": 3
   },
   "file_extension": ".py",
   "mimetype": "text/x-python",
   "name": "python",
   "nbconvert_exporter": "python",
   "pygments_lexer": "ipython3",
   "version": "3.12.7"
  }
 },
 "nbformat": 4,
 "nbformat_minor": 5
}
