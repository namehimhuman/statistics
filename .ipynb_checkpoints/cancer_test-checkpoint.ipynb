{
 "cells": [
  {
   "cell_type": "code",
   "execution_count": 1,
   "id": "204d7512-c01c-44ed-a69e-48c4e7b16dbe",
   "metadata": {},
   "outputs": [],
   "source": [
    "import pandas as pd\n",
    "import numpy as np\n",
    "import matplotlib.pyplot as plt\n",
    "import seaborn as sns"
   ]
  },
  {
   "cell_type": "code",
   "execution_count": 2,
   "id": "63e5586d-b047-4457-8258-7991a41e1d50",
   "metadata": {},
   "outputs": [],
   "source": [
    "total_women = 1000\n",
    "cancer_prevalence = 0.013\n",
    "sensitivity = 0.85         \n",
    "specificity = 0.90"
   ]
  },
  {
   "cell_type": "code",
   "execution_count": 21,
   "id": "db7c3834-f7c5-4861-93b2-3a042c1e2b72",
   "metadata": {},
   "outputs": [],
   "source": [
    "def calculate_test_results(total, prevalence, sensitivity, specificity):\n",
    "    has_cancer = int(total*prevalence)\n",
    "    healthy = total-has_cancer\n",
    "    #результаты для больных\n",
    "    true_positive = int(sensitivity*has_cancer)\n",
    "    false_negative = has_cancer-true_positive\n",
    "    #результаты для здоровых\n",
    "    true_negative = int(healthy*specificity)\n",
    "    #false_positive = int(total_women*(1-specificity))\n",
    "    false_positive = healthy - true_negative\n",
    "    return {\n",
    "        'has_cancer': has_cancer,\n",
    "        'healthy': healthy,\n",
    "        'true_positive': true_positive,\n",
    "        'false_negative': false_negative,\n",
    "        'true_negative': true_negative,\n",
    "        'false_positive': false_positive\n",
    "    }\n",
    "\n"
   ]
  },
  {
   "cell_type": "code",
   "execution_count": 22,
   "id": "baa594cb-e761-4d0a-b797-4291be84512f",
   "metadata": {},
   "outputs": [
    {
     "data": {
      "text/plain": [
       "{'has_cancer': 13,\n",
       " 'healthy': 987,\n",
       " 'true_positive': 11,\n",
       " 'false_negative': 2,\n",
       " 'true_negative': 888,\n",
       " 'false_positive': 99}"
      ]
     },
     "execution_count": 22,
     "metadata": {},
     "output_type": "execute_result"
    }
   ],
   "source": [
    "calculate_test_results(total_women, cancer_prevalence, sensitivity,specificity)"
   ]
  },
  {
   "cell_type": "code",
   "execution_count": null,
   "id": "00dbf3c1-9c36-4b63-820e-4e835c89a621",
   "metadata": {},
   "outputs": [],
   "source": []
  }
 ],
 "metadata": {
  "kernelspec": {
   "display_name": "Python 3 (ipykernel)",
   "language": "python",
   "name": "python3"
  },
  "language_info": {
   "codemirror_mode": {
    "name": "ipython",
    "version": 3
   },
   "file_extension": ".py",
   "mimetype": "text/x-python",
   "name": "python",
   "nbconvert_exporter": "python",
   "pygments_lexer": "ipython3",
   "version": "3.12.7"
  }
 },
 "nbformat": 4,
 "nbformat_minor": 5
}
