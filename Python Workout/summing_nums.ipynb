{
 "cells": [
  {
   "cell_type": "code",
   "execution_count": 8,
   "id": "48bf4d3c-7059-4d5d-9635-3ccb8bf418be",
   "metadata": {},
   "outputs": [],
   "source": [
    "import numpy as np\n",
    "import pandas as pd"
   ]
  },
  {
   "cell_type": "markdown",
   "id": "b1301839-c89d-409b-bab6-4641a9caa13d",
   "metadata": {},
   "source": [
    "The challenge here is to write a mysum function that does the same thing as the\n",
    "built-in sum function. However, instead of taking a single sequence as a parameter, it\n",
    "should take a variable number of arguments. Thus, although you might invoke\n",
    "sum([1,2,3]), you’d instead invoke mysum(1,2,3) or mysum(10,20,30,40,50)."
   ]
  },
  {
   "cell_type": "markdown",
   "id": "48d87c7f-884b-427b-a080-757209ba78f6",
   "metadata": {},
   "source": [
    "# Ordinary sum function"
   ]
  },
  {
   "cell_type": "code",
   "execution_count": 3,
   "id": "eefb1a8e-57b7-4591-9942-6842e2a1b38b",
   "metadata": {},
   "outputs": [
    {
     "data": {
      "text/plain": [
       "6"
      ]
     },
     "execution_count": 3,
     "metadata": {},
     "output_type": "execute_result"
    }
   ],
   "source": [
    "a = [1,2,3]\n",
    "sum(a)"
   ]
  },
  {
   "cell_type": "code",
   "execution_count": 5,
   "id": "87bdd7df-53ac-4e5c-9bc1-4776ffb7df45",
   "metadata": {},
   "outputs": [],
   "source": [
    "b = np.array([1,2,3])"
   ]
  },
  {
   "cell_type": "code",
   "execution_count": 6,
   "id": "0f2f6391-e4f8-4acb-8b44-433a1ecabdec",
   "metadata": {},
   "outputs": [
    {
     "data": {
      "text/plain": [
       "np.int64(6)"
      ]
     },
     "execution_count": 6,
     "metadata": {},
     "output_type": "execute_result"
    }
   ],
   "source": [
    "sum(b)"
   ]
  },
  {
   "cell_type": "code",
   "execution_count": 9,
   "id": "921b70dd-90ff-46e2-a480-5899ea88f297",
   "metadata": {},
   "outputs": [],
   "source": [
    "c = pd.Series([1,2,3])"
   ]
  },
  {
   "cell_type": "code",
   "execution_count": 10,
   "id": "3eeb6245-ed53-4d86-9092-cc360efed0c0",
   "metadata": {},
   "outputs": [
    {
     "data": {
      "text/plain": [
       "6"
      ]
     },
     "execution_count": 10,
     "metadata": {},
     "output_type": "execute_result"
    }
   ],
   "source": [
    "sum(c)"
   ]
  },
  {
   "cell_type": "code",
   "execution_count": null,
   "id": "5ff22dc0-fbcb-450f-9b74-804a91fb9b1a",
   "metadata": {},
   "outputs": [],
   "source": [
    "# Sum function wit"
   ]
  },
  {
   "cell_type": "code",
   "execution_count": 11,
   "id": "1651e337-9c4f-40c2-9231-91f2f6f9fa35",
   "metadata": {},
   "outputs": [],
   "source": [
    "def mysum(*numbers):\n",
    "    output = 0\n",
    "    for number in numbers:\n",
    "        output += number\n",
    "    return output"
   ]
  },
  {
   "cell_type": "code",
   "execution_count": 12,
   "id": "b1a24785-d675-40dc-b465-ca31ee488094",
   "metadata": {},
   "outputs": [
    {
     "data": {
      "text/plain": [
       "23"
      ]
     },
     "execution_count": 12,
     "metadata": {},
     "output_type": "execute_result"
    }
   ],
   "source": [
    "mysum(5,8,10)"
   ]
  },
  {
   "cell_type": "code",
   "execution_count": 13,
   "id": "fd802a45-5061-4af4-8d21-baa891a829ec",
   "metadata": {},
   "outputs": [
    {
     "data": {
      "text/plain": [
       "129"
      ]
     },
     "execution_count": 13,
     "metadata": {},
     "output_type": "execute_result"
    }
   ],
   "source": [
    "mysum(18,20,26,65)"
   ]
  },
  {
   "cell_type": "code",
   "execution_count": null,
   "id": "79e938b6-c371-4f61-8094-f1957b9278ee",
   "metadata": {},
   "outputs": [],
   "source": []
  },
  {
   "cell_type": "code",
   "execution_count": null,
   "id": "27147349-a904-460c-b08b-aeb5fbdc4be7",
   "metadata": {},
   "outputs": [],
   "source": []
  }
 ],
 "metadata": {
  "kernelspec": {
   "display_name": "Python 3 (ipykernel)",
   "language": "python",
   "name": "python3"
  },
  "language_info": {
   "codemirror_mode": {
    "name": "ipython",
    "version": 3
   },
   "file_extension": ".py",
   "mimetype": "text/x-python",
   "name": "python",
   "nbconvert_exporter": "python",
   "pygments_lexer": "ipython3",
   "version": "3.12.7"
  }
 },
 "nbformat": 4,
 "nbformat_minor": 5
}
