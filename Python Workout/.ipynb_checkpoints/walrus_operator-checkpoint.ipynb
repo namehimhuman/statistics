{
 "cells": [
  {
   "cell_type": "markdown",
   "id": "907adb04-e027-4890-bc3d-0248a0691f38",
   "metadata": {},
   "source": [
    "# Traditional Assignment vs. Walrus Operator\n"
   ]
  },
  {
   "cell_type": "code",
   "execution_count": 5,
   "id": "1f1ccd6f-fff4-4b09-b906-2ff2245b0db2",
   "metadata": {},
   "outputs": [
    {
     "ename": "SyntaxError",
     "evalue": "invalid syntax. Maybe you meant '==' or ':=' instead of '='? (1568098113.py, line 6)",
     "output_type": "error",
     "traceback": [
      "  \u001b[36mCell\u001b[39m\u001b[36m \u001b[39m\u001b[32mIn[5]\u001b[39m\u001b[32m, line 6\u001b[39m\n\u001b[31m    \u001b[39m\u001b[31mresult = (y = 10)  # SyntaxError: invalid syntax\u001b[39m\n              ^\n\u001b[31mSyntaxError\u001b[39m\u001b[31m:\u001b[39m invalid syntax. Maybe you meant '==' or ':=' instead of '='?\n"
     ]
    }
   ],
   "source": [
    "# This is a STATEMENT - it performs an assignment but doesn't return a value\n",
    "x = 5\n",
    "print(x)  # Output: 5\n",
    "\n",
    "# You can't use traditional assignment in expressions:\n",
    "result = (y = 10)  # SyntaxError: invalid syntax"
   ]
  },
  {
   "cell_type": "code",
   "execution_count": 6,
   "id": "c622e7b6-7b5b-4255-bcde-2a175113feed",
   "metadata": {},
   "outputs": [
    {
     "name": "stdout",
     "output_type": "stream",
     "text": [
      "5\n",
      "5\n",
      "15\n",
      "10\n"
     ]
    }
   ],
   "source": [
    "# This is an EXPRESSION - it both assigns AND returns a value\n",
    "print(x := 5)  # Output: 5 (assigns 5 to x AND returns 5)\n",
    "print(x)       # Output: 5\n",
    "\n",
    "# You can use it within larger expressions:\n",
    "result = (y := 10) + 5  # Valid: assigns 10 to y, returns 10, then adds 5\n",
    "print(result)  # Output: 15\n",
    "print(y)       # Output: 10"
   ]
  },
  {
   "cell_type": "code",
   "execution_count": 2,
   "id": "49757aa9-a3a2-403e-9845-e43c5dca07e1",
   "metadata": {},
   "outputs": [
    {
     "name": "stdin",
     "output_type": "stream",
     "text": [
      "Enter something:  pidor\n"
     ]
    },
    {
     "name": "stdout",
     "output_type": "stream",
     "text": [
      "You entered: pidor\n"
     ]
    },
    {
     "name": "stdin",
     "output_type": "stream",
     "text": [
      "Enter something:  quit\n"
     ]
    }
   ],
   "source": [
    "#without walrus\n",
    "line = input(\"Enter something: \")\n",
    "while line != \"quit\":\n",
    "    print(f\"You entered: {line}\")\n",
    "    line = input(\"Enter something: \")\n"
   ]
  },
  {
   "cell_type": "code",
   "execution_count": 3,
   "id": "7f34ab9a-9a02-4be4-ac3a-1591ee9906a0",
   "metadata": {},
   "outputs": [
    {
     "name": "stdin",
     "output_type": "stream",
     "text": [
      "Enter something:  pufor\n"
     ]
    },
    {
     "name": "stdout",
     "output_type": "stream",
     "text": [
      "You entered: pufor\n"
     ]
    },
    {
     "name": "stdin",
     "output_type": "stream",
     "text": [
      "Enter something:  fufel\n"
     ]
    },
    {
     "name": "stdout",
     "output_type": "stream",
     "text": [
      "You entered: fufel\n"
     ]
    },
    {
     "name": "stdin",
     "output_type": "stream",
     "text": [
      "Enter something:  yura\n"
     ]
    },
    {
     "name": "stdout",
     "output_type": "stream",
     "text": [
      "You entered: yura\n"
     ]
    },
    {
     "name": "stdin",
     "output_type": "stream",
     "text": [
      "Enter something:  quit\n"
     ]
    }
   ],
   "source": [
    "#with walrus\n",
    "while (line := input(\"Enter something: \")) != \"quit\":\n",
    "    print(f\"You entered: {line}\")"
   ]
  },
  {
   "cell_type": "code",
   "execution_count": null,
   "id": "6d8fef74-57c4-489a-826f-215d7daa5401",
   "metadata": {},
   "outputs": [],
   "source": []
  }
 ],
 "metadata": {
  "kernelspec": {
   "display_name": "Python 3 (ipykernel)",
   "language": "python",
   "name": "python3"
  },
  "language_info": {
   "codemirror_mode": {
    "name": "ipython",
    "version": 3
   },
   "file_extension": ".py",
   "mimetype": "text/x-python",
   "name": "python",
   "nbconvert_exporter": "python",
   "pygments_lexer": "ipython3",
   "version": "3.12.7"
  }
 },
 "nbformat": 4,
 "nbformat_minor": 5
}
