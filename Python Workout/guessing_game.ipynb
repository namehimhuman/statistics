{
 "cells": [
  {
   "cell_type": "code",
   "execution_count": 4,
   "id": "582b8a71-f91e-462c-8228-2ce8a345d7a6",
   "metadata": {},
   "outputs": [],
   "source": [
    "import random"
   ]
  },
  {
   "cell_type": "markdown",
   "id": "d8ddaaee-45f0-4e69-8533-6604fb00f0e2",
   "metadata": {},
   "source": [
    "Write a program that chooses a random integer between 0 and 100 (inclusive).  \n",
    "Then ask the user to guess what number has been chosen.  \n",
    "Each time the user enters a guess, the program indicates one of:  \n",
    "Too high  \n",
    "Too low  \n",
    "Just right  \n",
    "If the user guessed correctly, then the program exits. Otherwise, the user is asked to try again.  \n",
    "The program only exits after the user guesses correctly."
   ]
  },
  {
   "cell_type": "code",
   "execution_count": 9,
   "id": "7e92fd38-4cae-4968-8df5-7f4787e8c7b1",
   "metadata": {},
   "outputs": [],
   "source": [
    "def guessing_game():\n",
    "    answer = random.randint(0, 100)\n",
    "    while True:\n",
    "        user_guess = int(input('What is your guess? '))\n",
    "        \n",
    "        if user_guess == answer:\n",
    "            print(f'Right! The answer is {user_guess}')\n",
    "            break\n",
    "        \n",
    "        if user_guess < answer:\n",
    "            print(f'Your guess of {user_guess} is too low!')\n",
    "\n",
    "        else:\n",
    "            print(f'Your guess of {user_guess} is too high!')\n",
    "    "
   ]
  },
  {
   "cell_type": "code",
   "execution_count": 10,
   "id": "a6a4c8a1-4aed-496f-9eff-7c8c7c1f394e",
   "metadata": {},
   "outputs": [
    {
     "name": "stdin",
     "output_type": "stream",
     "text": [
      "What is your guess?  77\n"
     ]
    },
    {
     "name": "stdout",
     "output_type": "stream",
     "text": [
      "Your guess of 77 is too high!\n"
     ]
    },
    {
     "name": "stdin",
     "output_type": "stream",
     "text": [
      "What is your guess?  50\n"
     ]
    },
    {
     "name": "stdout",
     "output_type": "stream",
     "text": [
      "Your guess of 50 is too high!\n"
     ]
    },
    {
     "name": "stdin",
     "output_type": "stream",
     "text": [
      "What is your guess?  45\n"
     ]
    },
    {
     "name": "stdout",
     "output_type": "stream",
     "text": [
      "Your guess of 45 is too low!\n"
     ]
    },
    {
     "name": "stdin",
     "output_type": "stream",
     "text": [
      "What is your guess?  49\n"
     ]
    },
    {
     "name": "stdout",
     "output_type": "stream",
     "text": [
      "Your guess of 49 is too high!\n"
     ]
    },
    {
     "name": "stdin",
     "output_type": "stream",
     "text": [
      "What is your guess?  48\n"
     ]
    },
    {
     "name": "stdout",
     "output_type": "stream",
     "text": [
      "Your guess of 48 is too high!\n"
     ]
    },
    {
     "name": "stdin",
     "output_type": "stream",
     "text": [
      "What is your guess?  47\n"
     ]
    },
    {
     "name": "stdout",
     "output_type": "stream",
     "text": [
      "Your guess of 47 is too high!\n"
     ]
    },
    {
     "name": "stdin",
     "output_type": "stream",
     "text": [
      "What is your guess?  46\n"
     ]
    },
    {
     "name": "stdout",
     "output_type": "stream",
     "text": [
      "Right! The answer is 46\n"
     ]
    }
   ],
   "source": [
    "guessing_game()"
   ]
  },
  {
   "cell_type": "code",
   "execution_count": null,
   "id": "fdac5c4b-854a-434a-b995-a8747aea4120",
   "metadata": {},
   "outputs": [],
   "source": []
  }
 ],
 "metadata": {
  "kernelspec": {
   "display_name": "Python 3 (ipykernel)",
   "language": "python",
   "name": "python3"
  },
  "language_info": {
   "codemirror_mode": {
    "name": "ipython",
    "version": 3
   },
   "file_extension": ".py",
   "mimetype": "text/x-python",
   "name": "python",
   "nbconvert_exporter": "python",
   "pygments_lexer": "ipython3",
   "version": "3.12.7"
  }
 },
 "nbformat": 4,
 "nbformat_minor": 5
}
