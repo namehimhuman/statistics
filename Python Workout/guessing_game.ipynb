{
 "cells": [
  {
   "cell_type": "code",
   "execution_count": 2,
   "id": "582b8a71-f91e-462c-8228-2ce8a345d7a6",
   "metadata": {},
   "outputs": [],
   "source": [
    "import random"
   ]
  },
  {
   "cell_type": "code",
   "execution_count": null,
   "id": "7e92fd38-4cae-4968-8df5-7f4787e8c7b1",
   "metadata": {},
   "outputs": [],
   "source": [
    "def guessing_game():\n",
    "    answer = random.randint (0, 100)\n",
    "\n",
    "    while True:\n",
    "        user_guess = int (input ('Whats your guess?'))\n",
    "\n",
    "        if user_guess == answer:\n",
    "        print (f'Right! The answer is {user_guess}')\n",
    "        break\n",
    "\n",
    "        if user_guess < answer:\n",
    "            print  ('Your anwer is too small!')\n",
    "    "
   ]
  }
 ],
 "metadata": {
  "kernelspec": {
   "display_name": "Python 3 (ipykernel)",
   "language": "python",
   "name": "python3"
  },
  "language_info": {
   "codemirror_mode": {
    "name": "ipython",
    "version": 3
   },
   "file_extension": ".py",
   "mimetype": "text/x-python",
   "name": "python",
   "nbconvert_exporter": "python",
   "pygments_lexer": "ipython3",
   "version": "3.12.7"
  }
 },
 "nbformat": 4,
 "nbformat_minor": 5
}
