{
 "cells": [
  {
   "cell_type": "code",
   "execution_count": 24,
   "id": "bc0784e7-4e94-4b61-a337-09bf91926fdd",
   "metadata": {},
   "outputs": [],
   "source": [
    "import numpy as np\n",
    "import pandas as pd\n",
    "import matplotlib.pyplot as plt\n",
    "from tqdm import tqdm"
   ]
  },
  {
   "cell_type": "code",
   "execution_count": 3,
   "id": "466b89e9-e218-4fd0-90d0-c449d83b780c",
   "metadata": {},
   "outputs": [],
   "source": [
    "url = \"https://raw.githubusercontent.com/dickoa/penguins/master/data/penguins_size.csv\"\n",
    "penguins = pd.read_csv(url)"
   ]
  },
  {
   "cell_type": "code",
   "execution_count": 4,
   "id": "cfbba4bb-567c-4cdc-8071-90a938740c05",
   "metadata": {},
   "outputs": [
    {
     "data": {
      "text/html": [
       "<div>\n",
       "<style scoped>\n",
       "    .dataframe tbody tr th:only-of-type {\n",
       "        vertical-align: middle;\n",
       "    }\n",
       "\n",
       "    .dataframe tbody tr th {\n",
       "        vertical-align: top;\n",
       "    }\n",
       "\n",
       "    .dataframe thead th {\n",
       "        text-align: right;\n",
       "    }\n",
       "</style>\n",
       "<table border=\"1\" class=\"dataframe\">\n",
       "  <thead>\n",
       "    <tr style=\"text-align: right;\">\n",
       "      <th></th>\n",
       "      <th>species</th>\n",
       "      <th>island</th>\n",
       "      <th>culmen_length_mm</th>\n",
       "      <th>culmen_depth_mm</th>\n",
       "      <th>flipper_length_mm</th>\n",
       "      <th>body_mass_g</th>\n",
       "      <th>sex</th>\n",
       "    </tr>\n",
       "  </thead>\n",
       "  <tbody>\n",
       "    <tr>\n",
       "      <th>0</th>\n",
       "      <td>Adelie</td>\n",
       "      <td>Torgersen</td>\n",
       "      <td>39.1</td>\n",
       "      <td>18.7</td>\n",
       "      <td>181.0</td>\n",
       "      <td>3750.0</td>\n",
       "      <td>MALE</td>\n",
       "    </tr>\n",
       "    <tr>\n",
       "      <th>1</th>\n",
       "      <td>Adelie</td>\n",
       "      <td>Torgersen</td>\n",
       "      <td>39.5</td>\n",
       "      <td>17.4</td>\n",
       "      <td>186.0</td>\n",
       "      <td>3800.0</td>\n",
       "      <td>FEMALE</td>\n",
       "    </tr>\n",
       "    <tr>\n",
       "      <th>2</th>\n",
       "      <td>Adelie</td>\n",
       "      <td>Torgersen</td>\n",
       "      <td>40.3</td>\n",
       "      <td>18.0</td>\n",
       "      <td>195.0</td>\n",
       "      <td>3250.0</td>\n",
       "      <td>FEMALE</td>\n",
       "    </tr>\n",
       "    <tr>\n",
       "      <th>3</th>\n",
       "      <td>Adelie</td>\n",
       "      <td>Torgersen</td>\n",
       "      <td>NaN</td>\n",
       "      <td>NaN</td>\n",
       "      <td>NaN</td>\n",
       "      <td>NaN</td>\n",
       "      <td>NaN</td>\n",
       "    </tr>\n",
       "    <tr>\n",
       "      <th>4</th>\n",
       "      <td>Adelie</td>\n",
       "      <td>Torgersen</td>\n",
       "      <td>36.7</td>\n",
       "      <td>19.3</td>\n",
       "      <td>193.0</td>\n",
       "      <td>3450.0</td>\n",
       "      <td>FEMALE</td>\n",
       "    </tr>\n",
       "  </tbody>\n",
       "</table>\n",
       "</div>"
      ],
      "text/plain": [
       "  species     island  culmen_length_mm  culmen_depth_mm  flipper_length_mm  \\\n",
       "0  Adelie  Torgersen              39.1             18.7              181.0   \n",
       "1  Adelie  Torgersen              39.5             17.4              186.0   \n",
       "2  Adelie  Torgersen              40.3             18.0              195.0   \n",
       "3  Adelie  Torgersen               NaN              NaN                NaN   \n",
       "4  Adelie  Torgersen              36.7             19.3              193.0   \n",
       "\n",
       "   body_mass_g     sex  \n",
       "0       3750.0    MALE  \n",
       "1       3800.0  FEMALE  \n",
       "2       3250.0  FEMALE  \n",
       "3          NaN     NaN  \n",
       "4       3450.0  FEMALE  "
      ]
     },
     "execution_count": 4,
     "metadata": {},
     "output_type": "execute_result"
    }
   ],
   "source": [
    "penguins.head(5)"
   ]
  },
  {
   "cell_type": "code",
   "execution_count": 11,
   "id": "1ec187d5-720b-4f60-959a-c7e18d36fc0c",
   "metadata": {},
   "outputs": [
    {
     "data": {
      "text/plain": [
       "np.float64(683.4117965367964)"
      ]
     },
     "execution_count": 11,
     "metadata": {},
     "output_type": "execute_result"
    }
   ],
   "source": [
    "female = np.mean(penguins[penguins['sex'] == 'FEMALE']['body_mass_g'])\n",
    "male = np.mean(penguins[penguins['sex'] == 'MALE']['body_mass_g'])\n",
    "point_estimate = male - female\n",
    "point_estimate"
   ]
  },
  {
   "cell_type": "code",
   "execution_count": 19,
   "id": "96b090c9-c6ae-4cb3-b210-6b43e061196f",
   "metadata": {},
   "outputs": [],
   "source": [
    "#n = len(penguins)\n",
    "n = penguins.shape[0]"
   ]
  },
  {
   "cell_type": "code",
   "execution_count": 34,
   "id": "bc9a1072-9767-4b31-a4b8-84fd53b3d56a",
   "metadata": {},
   "outputs": [
    {
     "name": "stderr",
     "output_type": "stream",
     "text": [
      "100%|██████████| 10000/10000 [00:17<00:00, 556.57it/s]\n"
     ]
    },
    {
     "data": {
      "text/plain": [
       "<matplotlib.collections.PathCollection at 0x7477c7ebb140>"
      ]
     },
     "execution_count": 34,
     "metadata": {},
     "output_type": "execute_result"
    },
    {
     "data": {
      "image/png": "[encoded data removed]",
      "text/plain": [
       "<Figure size 640x480 with 1 Axes>"
      ]
     },
     "metadata": {},
     "output_type": "display_data"
    }
   ],
   "source": [
    "boot_stats = []\n",
    "for i in tqdm(range(10_000)):\n",
    "    penguin_boot = penguins.sample(n, replace=True)\n",
    "    stat = np.mean(penguin_boot[penguin_boot['sex'] == 'MALE']['body_mass_g'])-np.mean(penguin_boot[penguin_boot['sex'] == 'FEMALE']['body_mass_g'])\n",
    "    boot_stats.append(stat)\n",
    "boot_stats = np.array(boot_stats)\n",
    "plt.hist(boot_stats)\n",
    "plt.scatter(point_estimate, -5, color='red')"
   ]
  },
  {
   "cell_type": "code",
   "execution_count": 36,
   "id": "b8034c08-f9ae-4269-a255-803e776900c3",
   "metadata": {},
   "outputs": [
    {
     "data": {
      "text/plain": [
       "(array([   6.,   27.,  255., 1104., 2528., 3171., 2044.,  709.,  136.,\n",
       "          20.]),\n",
       " array([-350.14288629, -284.55801261, -218.97313893, -153.38826525,\n",
       "         -87.80339157,  -22.21851788,   43.3663558 ,  108.95122948,\n",
       "         174.53610316,  240.12097684,  305.70585052]),\n",
       " <BarContainer object of 10 artists>)"
      ]
     },
     "execution_count": 36,
     "metadata": {},
     "output_type": "execute_result"
    },
    {
     "data": {
      "image/png": "[encoded data removed]",
      "text/plain": [
       "<Figure size 640x480 with 1 Axes>"
      ]
     },
     "metadata": {},
     "output_type": "display_data"
    }
   ],
   "source": [
    "plt.hist(boot_stats-point_estimate)"
   ]
  },
  {
   "cell_type": "code",
   "execution_count": 46,
   "id": "a0a00794-8b74-4cfa-9e36-5756ff5dcbb3",
   "metadata": {},
   "outputs": [
    {
     "data": {
      "text/plain": [
       "np.float64(525.8916832070255)"
      ]
     },
     "execution_count": 46,
     "metadata": {},
     "output_type": "execute_result"
    }
   ],
   "source": [
    "low = np.percentile(boot_stats, 2.5)\n",
    "up = np.percentile(boot_stats, 100-2.5)\n",
    "low"
   ]
  },
  {
   "cell_type": "code",
   "execution_count": 47,
   "id": "53718a20-4736-4e44-bc0c-bbbc718ff746",
   "metadata": {},
   "outputs": [
    {
     "data": {
      "text/plain": [
       "np.float64(841.9796743459316)"
      ]
     },
     "execution_count": 47,
     "metadata": {},
     "output_type": "execute_result"
    }
   ],
   "source": [
    "up"
   ]
  },
  {
   "cell_type": "code",
   "execution_count": 40,
   "id": "1787dcb3-c695-4ab1-a1e7-ee73b71d676e",
   "metadata": {},
   "outputs": [],
   "source": [
    "l = np.percentile(boot_stats-point_estimate, 2.5)\n",
    "u = np.percentile(boot_stats-point_estimate, 100-2.5)"
   ]
  },
  {
   "cell_type": "code",
   "execution_count": 41,
   "id": "afe6efab-bf60-48e7-84ac-a130fdfcd964",
   "metadata": {},
   "outputs": [],
   "source": [
    "lower_bound = point_estimate - u\n",
    "upper_bound =point_estimate - l"
   ]
  },
  {
   "cell_type": "code",
   "execution_count": 42,
   "id": "ed4a8bf1-cc19-4465-a64b-1581fd9e912e",
   "metadata": {},
   "outputs": [
    {
     "data": {
      "text/plain": [
       "np.float64(524.8439187276612)"
      ]
     },
     "execution_count": 42,
     "metadata": {},
     "output_type": "execute_result"
    }
   ],
   "source": [
    "lower_bound"
   ]
  },
  {
   "cell_type": "code",
   "execution_count": 43,
   "id": "5659d20c-9978-43f9-bb9e-d97b07cce33a",
   "metadata": {},
   "outputs": [
    {
     "data": {
      "text/plain": [
       "np.float64(840.9319098665673)"
      ]
     },
     "execution_count": 43,
     "metadata": {},
     "output_type": "execute_result"
    }
   ],
   "source": [
    "upper_bound"
   ]
  },
  {
   "cell_type": "code",
   "execution_count": null,
   "id": "2182d143-c539-458b-b953-bdc01d79a756",
   "metadata": {},
   "outputs": [],
   "source": []
  }
 ],
 "metadata": {
  "kernelspec": {
   "display_name": "Python 3 (ipykernel)",
   "language": "python",
   "name": "python3"
  },
  "language_info": {
   "codemirror_mode": {
    "name": "ipython",
    "version": 3
   },
   "file_extension": ".py",
   "mimetype": "text/x-python",
   "name": "python",
   "nbconvert_exporter": "python",
   "pygments_lexer": "ipython3",
   "version": "3.12.7"
  }
 },
 "nbformat": 4,
 "nbformat_minor": 5
}
