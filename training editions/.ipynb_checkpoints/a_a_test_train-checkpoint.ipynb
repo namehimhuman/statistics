{
 "cells": [
  {
   "cell_type": "code",
   "execution_count": 1,
   "id": "fabccdb4-685f-4554-b879-94c3dc4f2678",
   "metadata": {},
   "outputs": [],
   "source": [
    "import numpy as np\n",
    "from tqdm import tqdm\n",
    "import matplotlib.pyplot as plt\n",
    "from scipy.stats import ttest_ind"
   ]
  },
  {
   "cell_type": "markdown",
   "id": "49226c84-d94d-4c7e-af36-5a7704e31bb5",
   "metadata": {},
   "source": [
    "Generate two samples from one distribution, conduct ttest 10_000 times, store the p_values, check the p_values distribution, check the false positive rate"
   ]
  },
  {
   "cell_type": "code",
   "execution_count": null,
   "id": "248a4763-2c18-47c6-b66a-ad295db18090",
   "metadata": {},
   "outputs": [],
   "source": []
  },
  {
   "cell_type": "code",
   "execution_count": null,
   "id": "18631309-c8e2-4fe6-b1e5-29cbf32524b7",
   "metadata": {},
   "outputs": [],
   "source": []
  },
  {
   "cell_type": "code",
   "execution_count": null,
   "id": "b5a3153d-ccae-4c02-8af1-612617d277ec",
   "metadata": {},
   "outputs": [],
   "source": []
  },
  {
   "cell_type": "code",
   "execution_count": null,
   "id": "df9b236a-db63-410f-8e64-1df695655859",
   "metadata": {},
   "outputs": [],
   "source": []
  },
  {
   "cell_type": "code",
   "execution_count": null,
   "id": "959cb4b6-c3af-4008-9dba-44cd8eae60dc",
   "metadata": {},
   "outputs": [],
   "source": []
  }
 ],
 "metadata": {
  "kernelspec": {
   "display_name": "Python 3 (ipykernel)",
   "language": "python",
   "name": "python3"
  },
  "language_info": {
   "codemirror_mode": {
    "name": "ipython",
    "version": 3
   },
   "file_extension": ".py",
   "mimetype": "text/x-python",
   "name": "python",
   "nbconvert_exporter": "python",
   "pygments_lexer": "ipython3",
   "version": "3.12.7"
  }
 },
 "nbformat": 4,
 "nbformat_minor": 5
}
