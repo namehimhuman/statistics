{
 "cells": [
  {
   "cell_type": "code",
   "execution_count": 40,
   "id": "d72c0d71-1ec1-4b96-9987-9e6f163a5b6d",
   "metadata": {},
   "outputs": [],
   "source": [
    "import numpy as np\n",
    "import pandas as pd\n",
    "import matplotlib.pyplot as plt\n",
    "from scipy import stats"
   ]
  },
  {
   "cell_type": "markdown",
   "id": "c88ac59e-7533-4d68-8e12-b9664b12e0e3",
   "metadata": {},
   "source": [
    "generating samples from two different distributions"
   ]
  },
  {
   "cell_type": "code",
   "execution_count": 41,
   "id": "dab3c6f9-eb71-4710-8d29-a8ef81dd0bfa",
   "metadata": {},
   "outputs": [],
   "source": []
  },
  {
   "cell_type": "markdown",
   "id": "5d28b4cf-0032-4827-9114-1e2c3e26ba90",
   "metadata": {},
   "source": [
    "put samples in the dataframe"
   ]
  },
  {
   "cell_type": "code",
   "execution_count": null,
   "id": "b61e1722-fd65-45a6-b1c0-9926ad63c9c5",
   "metadata": {},
   "outputs": [],
   "source": []
  },
  {
   "cell_type": "markdown",
   "id": "80268eb7-a1a1-4594-9fe1-e2ad00551669",
   "metadata": {},
   "source": [
    "write function to calculate the z score"
   ]
  },
  {
   "cell_type": "code",
   "execution_count": 43,
   "id": "757d4193-3251-4254-8fbb-f88c4ef523cd",
   "metadata": {},
   "outputs": [],
   "source": []
  },
  {
   "cell_type": "markdown",
   "id": "907536a0-58a1-4eac-b417-ce15b7c1b0bf",
   "metadata": {},
   "source": [
    "apply the function to dataframe"
   ]
  },
  {
   "cell_type": "code",
   "execution_count": null,
   "id": "b3f4f8e7-11c8-4ea4-8335-7170ad63d578",
   "metadata": {},
   "outputs": [],
   "source": []
  },
  {
   "cell_type": "markdown",
   "id": "e3de87e1-503f-40b1-95fc-f6b57519c9aa",
   "metadata": {},
   "source": [
    "find extreme values abs(z)>2"
   ]
  },
  {
   "cell_type": "code",
   "execution_count": null,
   "id": "fc839b5e-4579-4a18-a2d3-996ed56fd53b",
   "metadata": {},
   "outputs": [],
   "source": []
  },
  {
   "cell_type": "markdown",
   "id": "640ff96b-ebe3-498f-91d8-c42e6cb1ce4e",
   "metadata": {},
   "source": [
    "Randomly select one apple and one orange z-score"
   ]
  },
  {
   "cell_type": "code",
   "execution_count": null,
   "id": "75136f1a-81b9-4a3e-8401-3ac87ee8fc87",
   "metadata": {},
   "outputs": [],
   "source": []
  }
 ],
 "metadata": {
  "kernelspec": {
   "display_name": "Python 3 (ipykernel)",
   "language": "python",
   "name": "python3"
  },
  "language_info": {
   "codemirror_mode": {
    "name": "ipython",
    "version": 3
   },
   "file_extension": ".py",
   "mimetype": "text/x-python",
   "name": "python",
   "nbconvert_exporter": "python",
   "pygments_lexer": "ipython3",
   "version": "3.12.7"
  }
 },
 "nbformat": 4,
 "nbformat_minor": 5
}
