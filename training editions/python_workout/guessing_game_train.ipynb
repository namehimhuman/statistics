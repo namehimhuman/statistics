{
 "cells": [
  {
   "cell_type": "code",
   "execution_count": 1,
   "id": "a5a1ecd5-fd31-423e-a10d-2a4e4fc75481",
   "metadata": {},
   "outputs": [],
   "source": [
    "import random"
   ]
  },
  {
   "cell_type": "markdown",
   "id": "d381be3a-9aea-47c5-a70d-4e7df0ceb16f",
   "metadata": {},
   "source": [
    "Write a program that chooses a random integer between 0 and 100 (inclusive).  \n",
    "Then ask the user to guess what number has been chosen.  \n",
    "Each time the user enters a guess, the program indicates one of:  \n",
    "Too high  \n",
    "Too low  \n",
    "Just right  \n",
    "If the user guessed correctly, then the program exits. Otherwise, the user is asked to try again.  \n",
    "The program only exits after the user guesses correctly."
   ]
  },
  {
   "cell_type": "code",
   "execution_count": null,
   "id": "b2dca1eb-f829-4bb2-9670-575bc7fdd3b0",
   "metadata": {},
   "outputs": [],
   "source": []
  }
 ],
 "metadata": {
  "kernelspec": {
   "display_name": "Python 3 (ipykernel)",
   "language": "python",
   "name": "python3"
  },
  "language_info": {
   "codemirror_mode": {
    "name": "ipython",
    "version": 3
   },
   "file_extension": ".py",
   "mimetype": "text/x-python",
   "name": "python",
   "nbconvert_exporter": "python",
   "pygments_lexer": "ipython3",
   "version": "3.12.7"
  }
 },
 "nbformat": 4,
 "nbformat_minor": 5
}
