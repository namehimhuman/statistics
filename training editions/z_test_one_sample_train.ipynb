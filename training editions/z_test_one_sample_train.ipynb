{
 "cells": [
  {
   "cell_type": "code",
   "execution_count": 2,
   "id": "b45f1640-515b-4602-bd8a-44d0f097f0c1",
   "metadata": {},
   "outputs": [],
   "source": [
    "import numpy as np\n",
    "from statsmodels.stats.weightstats import ztest\n",
    "from scipy.stats import norm"
   ]
  },
  {
   "cell_type": "markdown",
   "id": "06cb6145-83f4-459f-830f-112a1c69468b",
   "metadata": {},
   "source": [
    "# One sample Z test"
   ]
  },
  {
   "cell_type": "markdown",
   "id": "a612b477-b445-4cd4-a897-7ccbc2c5fb42",
   "metadata": {},
   "source": [
    "Compare sample mean to known value, typically population mean. Samples should be more than 30. Population standard deviation is known.\n",
    "Examples: are IQ scores of data science students significantly different from population IQ?"
   ]
  },
  {
   "cell_type": "markdown",
   "id": "62da2aec-b19a-4006-b47a-586fc7139f54",
   "metadata": {},
   "source": [
    "New shoe model is claimed to last at least 400 miles before replacement. Population standard deviation is 15 miles."
   ]
  },
  {
   "cell_type": "markdown",
   "id": "b07d58be-2094-490a-a4c8-3308c61230b1",
   "metadata": {},
   "source": [
    "Z statistic shows us how far the sample mean is from the population mean in units of standard error."
   ]
  },
  {
   "cell_type": "code",
   "execution_count": 37,
   "id": "17b37f62-ef97-4df7-8897-a4b3fb025b03",
   "metadata": {},
   "outputs": [],
   "source": [
    "shoe_distance = [\n",
    "     370, 395, 400, 405, 390, 385, 410, 395, 400, 380, 390, 400, 410, 415, 395, 405, 390, 400, 420, 375, 400, 385, 390, 395, 410, 405, 400, 395, 380, 400\n",
    "]\n",
    "population_mean = 400\n",
    "population_std = 15\n",
    "alpha = 0.005"
   ]
  },
  {
   "cell_type": "code",
   "execution_count": null,
   "id": "df3e0d8a-fae4-403a-b348-bebc701f2d08",
   "metadata": {},
   "outputs": [],
   "source": []
  },
  {
   "cell_type": "markdown",
   "id": "8a3c0cd3-9d71-4d0e-81e7-32d7aab55e68",
   "metadata": {},
   "source": [
    "calculating standard error of the mean"
   ]
  },
  {
   "cell_type": "code",
   "execution_count": null,
   "id": "6dd3d774-6c5d-489c-87a2-f53c8ec8ad3e",
   "metadata": {},
   "outputs": [],
   "source": []
  },
  {
   "cell_type": "markdown",
   "id": "7653ed2d-85f6-44ba-afb8-b8af2ea1f1f5",
   "metadata": {},
   "source": [
    "calculating \"effect\" or \"observed_deviation\""
   ]
  },
  {
   "cell_type": "code",
   "execution_count": null,
   "id": "7ffe0949-f4d5-4b74-91f1-a047d2103bd8",
   "metadata": {},
   "outputs": [],
   "source": []
  },
  {
   "cell_type": "markdown",
   "id": "37175aa4-86fd-4248-9e29-d45a21b4a847",
   "metadata": {},
   "source": [
    "calculating z_score"
   ]
  },
  {
   "cell_type": "code",
   "execution_count": null,
   "id": "247a7b3f-fbda-4c2e-a23a-3294377dc461",
   "metadata": {},
   "outputs": [],
   "source": []
  },
  {
   "cell_type": "markdown",
   "id": "687efedf-2bbb-43aa-8099-ed51261a454b",
   "metadata": {},
   "source": [
    "calculating p_value(two-tailed)"
   ]
  },
  {
   "cell_type": "markdown",
   "id": "5b70c4ff-9f59-4113-9778-01a1b9dbe4e7",
   "metadata": {},
   "source": [
    "norm.cdf() — это функция из библиотек статистики (например, scipy.stats или statsmodels в Python). CDF расшифровывается как Cumulative Distribution Function (Функция Распределения).\n",
    "Что она делает? Она вычисляет площадь под кривой нормального распределения ЛЕВЕЕ заданной Z-статистики."
   ]
  },
  {
   "cell_type": "code",
   "execution_count": null,
   "id": "86d37131-fec1-4000-9827-7305ce904f2d",
   "metadata": {},
   "outputs": [],
   "source": []
  },
  {
   "cell_type": "code",
   "execution_count": null,
   "id": "17374fb2-f7f8-43b3-bb60-1e8c00d1e8a5",
   "metadata": {},
   "outputs": [],
   "source": []
  },
  {
   "cell_type": "markdown",
   "id": "ed12de09-e55c-43af-8a24-28cfce10f245",
   "metadata": {},
   "source": [
    "Do marathon runners run faster than general population?"
   ]
  },
  {
   "cell_type": "code",
   "execution_count": 36,
   "id": "63c31e70-f147-4d83-b76f-b3788f7d2a1a",
   "metadata": {},
   "outputs": [],
   "source": [
    "marathon_data = [\n",
    "    250, 260, 245, 255, 240, 265, 270, 260, 275, 255, 245, 250, 265, 255, 260, 245, 250, 275, 260, 255,\n",
    "    245, 250, 265, 255, 260, 275, 250, 260, 255, 245, 260, 265, 255, 250, 275, 260, 255, 245, 250, 265,\n",
    "    260, 270, 255, 245, 260, 265, 250, 260, 255, 245\n",
    "]\n",
    "population_mean = 270\n",
    "population_std = 30"
   ]
  },
  {
   "cell_type": "code",
   "execution_count": null,
   "id": "e64e402f-7fdf-417f-8f36-0cd6378159b9",
   "metadata": {},
   "outputs": [],
   "source": []
  },
  {
   "cell_type": "code",
   "execution_count": null,
   "id": "81747534-d950-4036-87cb-4a3dda1e0f6d",
   "metadata": {},
   "outputs": [],
   "source": []
  },
  {
   "cell_type": "code",
   "execution_count": null,
   "id": "541223a8-18b9-40fb-a50d-877657d80f9a",
   "metadata": {},
   "outputs": [],
   "source": []
  },
  {
   "cell_type": "code",
   "execution_count": null,
   "id": "e23b18bf-60ca-4afc-b475-9d7a0690f854",
   "metadata": {},
   "outputs": [],
   "source": []
  }
 ],
 "metadata": {
  "kernelspec": {
   "display_name": "Python 3 (ipykernel)",
   "language": "python",
   "name": "python3"
  },
  "language_info": {
   "codemirror_mode": {
    "name": "ipython",
    "version": 3
   },
   "file_extension": ".py",
   "mimetype": "text/x-python",
   "name": "python",
   "nbconvert_exporter": "python",
   "pygments_lexer": "ipython3",
   "version": "3.12.7"
  }
 },
 "nbformat": 4,
 "nbformat_minor": 5
}
