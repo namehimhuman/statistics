{
 "cells": [
  {
   "cell_type": "code",
   "execution_count": 3,
   "id": "c7db048f-1842-4e1d-8799-d47981f32087",
   "metadata": {},
   "outputs": [],
   "source": [
    "import numpy as np\n",
    "from tqdm import tqdm"
   ]
  },
  {
   "cell_type": "code",
   "execution_count": 4,
   "id": "c3105d3b-ba4e-427f-86d4-996bc4c92bbc",
   "metadata": {},
   "outputs": [],
   "source": [
    "data = [2,4,2,4,6,9,3,2]"
   ]
  },
  {
   "cell_type": "markdown",
   "id": "73307558-3521-4bcf-8778-cf1144460a2e",
   "metadata": {},
   "source": [
    "# Variance, for-cycle, iteration over list"
   ]
  },
  {
   "cell_type": "code",
   "execution_count": null,
   "id": "d36a3534-88c9-453d-a959-5755135703ea",
   "metadata": {},
   "outputs": [],
   "source": []
  },
  {
   "cell_type": "markdown",
   "id": "a412afdb-31a0-419b-8ae6-55b62eaa7277",
   "metadata": {},
   "source": [
    "# Variance using generator expression"
   ]
  },
  {
   "cell_type": "code",
   "execution_count": null,
   "id": "b5517e9f-4b9a-48af-b1d3-274391d2ce38",
   "metadata": {},
   "outputs": [],
   "source": []
  },
  {
   "cell_type": "markdown",
   "id": "e084aaab-532a-4c8a-92f9-98c9ad852731",
   "metadata": {},
   "source": [
    "# Standard deviation(std)"
   ]
  },
  {
   "cell_type": "code",
   "execution_count": null,
   "id": "d4337be4-815b-4fb2-af97-89e7b5ce325a",
   "metadata": {},
   "outputs": [],
   "source": []
  },
  {
   "cell_type": "markdown",
   "id": "41006f20-d478-4a1f-8a61-cca02c7c9f66",
   "metadata": {},
   "source": [
    "# Standard error of the mean(SEM)"
   ]
  },
  {
   "cell_type": "code",
   "execution_count": null,
   "id": "b88974c2-ca3c-4a3e-b3cd-805bfe7dc010",
   "metadata": {},
   "outputs": [],
   "source": [
    "\n",
    "    "
   ]
  },
  {
   "cell_type": "markdown",
   "id": "8641af16-0bec-468d-8f72-175a89b1fc75",
   "metadata": {},
   "source": [
    "# Bootstrapping standard error of the mean(SEM)"
   ]
  },
  {
   "cell_type": "code",
   "execution_count": null,
   "id": "3ff04600-7b26-4e70-8912-4a45575d24d6",
   "metadata": {},
   "outputs": [],
   "source": []
  },
  {
   "cell_type": "markdown",
   "id": "e0230bff-3440-4015-b52c-1e62c0ef1851",
   "metadata": {},
   "source": [
    "# Vectorized bootstraping SEM"
   ]
  },
  {
   "cell_type": "code",
   "execution_count": null,
   "id": "8d48031f-99ba-4045-9fa4-9484ef43a9bd",
   "metadata": {},
   "outputs": [],
   "source": []
  },
  {
   "cell_type": "code",
   "execution_count": null,
   "id": "e5148cfa-4bc1-47f1-a80b-5d574ac445e8",
   "metadata": {},
   "outputs": [],
   "source": []
  }
 ],
 "metadata": {
  "kernelspec": {
   "display_name": "Python 3 (ipykernel)",
   "language": "python",
   "name": "python3"
  },
  "language_info": {
   "codemirror_mode": {
    "name": "ipython",
    "version": 3
   },
   "file_extension": ".py",
   "mimetype": "text/x-python",
   "name": "python",
   "nbconvert_exporter": "python",
   "pygments_lexer": "ipython3",
   "version": "3.12.7"
  }
 },
 "nbformat": 4,
 "nbformat_minor": 5
}
