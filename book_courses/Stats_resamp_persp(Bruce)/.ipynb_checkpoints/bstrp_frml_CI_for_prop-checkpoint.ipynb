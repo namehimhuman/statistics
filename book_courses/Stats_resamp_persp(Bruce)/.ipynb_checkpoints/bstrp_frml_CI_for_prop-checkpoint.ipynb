{
 "cells": [
  {
   "cell_type": "code",
   "execution_count": 133,
   "id": "d5f87e62-259a-44fe-b43c-11bbb7824eed",
   "metadata": {},
   "outputs": [],
   "source": [
    "import numpy as np\n",
    "import pandas as pd\n",
    "import matplotlib.pyplot as plt\n",
    "from scipy import stats"
   ]
  },
  {
   "cell_type": "markdown",
   "id": "89f0a553-cf0b-4832-8933-5f58dcb1c356",
   "metadata": {},
   "source": [
    "out of 20 purchases 4 are returned, calculate population confidence intervals"
   ]
  },
  {
   "cell_type": "code",
   "execution_count": 75,
   "id": "e86db61d-c06e-4ec7-9a01-f0c0a60384f3",
   "metadata": {},
   "outputs": [],
   "source": [
    "df = pd.DataFrame({'Not_returned':[16], 'Returned':[4]}, index = ['Purchases'])"
   ]
  },
  {
   "cell_type": "code",
   "execution_count": 76,
   "id": "e7f7f2fb-6b5d-4971-8369-1d1e4c49da88",
   "metadata": {},
   "outputs": [
    {
     "data": {
      "text/html": [
       "<div>\n",
       "<style scoped>\n",
       "    .dataframe tbody tr th:only-of-type {\n",
       "        vertical-align: middle;\n",
       "    }\n",
       "\n",
       "    .dataframe tbody tr th {\n",
       "        vertical-align: top;\n",
       "    }\n",
       "\n",
       "    .dataframe thead th {\n",
       "        text-align: right;\n",
       "    }\n",
       "</style>\n",
       "<table border=\"1\" class=\"dataframe\">\n",
       "  <thead>\n",
       "    <tr style=\"text-align: right;\">\n",
       "      <th></th>\n",
       "      <th>Not_returned</th>\n",
       "      <th>Returned</th>\n",
       "    </tr>\n",
       "  </thead>\n",
       "  <tbody>\n",
       "    <tr>\n",
       "      <th>Purchases</th>\n",
       "      <td>16</td>\n",
       "      <td>4</td>\n",
       "    </tr>\n",
       "  </tbody>\n",
       "</table>\n",
       "</div>"
      ],
      "text/plain": [
       "           Not_returned  Returned\n",
       "Purchases            16         4"
      ]
     },
     "execution_count": 76,
     "metadata": {},
     "output_type": "execute_result"
    }
   ],
   "source": [
    "df"
   ]
  },
  {
   "cell_type": "markdown",
   "id": "97d91465-73fb-4b21-b4ec-07e49f574356",
   "metadata": {},
   "source": [
    "compute the point estimate of the returned goods"
   ]
  },
  {
   "cell_type": "code",
   "execution_count": 77,
   "id": "ea41cd89-1525-4830-810b-29f7e39fc61b",
   "metadata": {},
   "outputs": [
    {
     "data": {
      "text/plain": [
       "0.2"
      ]
     },
     "execution_count": 77,
     "metadata": {},
     "output_type": "execute_result"
    }
   ],
   "source": [
    "returned_ratio = 4/20\n",
    "returned_ratio"
   ]
  },
  {
   "cell_type": "markdown",
   "id": "9eb8589a-017e-43c3-b72c-a797dcfe4554",
   "metadata": {},
   "source": [
    "extract the data from the data frame"
   ]
  },
  {
   "cell_type": "code",
   "execution_count": 113,
   "id": "5a9ff0df-2dda-414b-9608-18e96679ee92",
   "metadata": {},
   "outputs": [],
   "source": [
    "returned = df.loc['Purchases', 'Returned' ]\n",
    "not_returned = df.loc['Purchases','Not_returned']"
   ]
  },
  {
   "cell_type": "code",
   "execution_count": 120,
   "id": "1dc195a8-1229-432b-8cd9-24a1540009fa",
   "metadata": {},
   "outputs": [],
   "source": [
    "sample_size = 20\n",
    "n_permutations = 1000"
   ]
  },
  {
   "cell_type": "markdown",
   "id": "288f46b0-10a4-431c-a5aa-472d23b07372",
   "metadata": {},
   "source": [
    "conduct permutation test, resample with replacement due to small sample size"
   ]
  },
  {
   "cell_type": "code",
   "execution_count": 123,
   "id": "7a7800a4-9589-48ae-8b51-13f437172ea8",
   "metadata": {},
   "outputs": [],
   "source": [
    "def permutation_with_replacement(returned_count, not_returned_count, sample_size, n_permutations):\n",
    "    pool = np.concatenate([np.ones(returned_count), np.zeros(not_returned_count)])\n",
    "    np.random.shuffle(pool)\n",
    "    resampled = np.random.choice(pool, size=(n_permutations, sample_size), replace=True)\n",
    "    resampled_prop = np.mean(resampled, axis=1)\n",
    "    return resampled_prop"
   ]
  },
  {
   "cell_type": "code",
   "execution_count": 124,
   "id": "fc63bc53-e76c-42dc-a5fd-33d33a33beab",
   "metadata": {},
   "outputs": [
    {
     "data": {
      "text/plain": [
       "<matplotlib.collections.PathCollection at 0x7a37dc359be0>"
      ]
     },
     "execution_count": 124,
     "metadata": {},
     "output_type": "execute_result"
    },
    {
     "data": {
      "image/png": "[encoded data removed]",
      "text/plain": [
       "<Figure size 640x480 with 1 Axes>"
      ]
     },
     "metadata": {},
     "output_type": "display_data"
    }
   ],
   "source": [
    "resampled_proportions = permutation_with_replacement(returned, not_returned, sample_size, n_permutations)\n",
    "plt.hist(resampled_proportions)\n",
    "plt.scatter(returned_ratio, -30, color = 'red')"
   ]
  },
  {
   "cell_type": "markdown",
   "id": "51dcf3a7-e089-4937-b8fc-0fa851e6ad9e",
   "metadata": {},
   "source": [
    "compute the 95% CI"
   ]
  },
  {
   "cell_type": "code",
   "execution_count": 125,
   "id": "c66c0136-4a8b-4609-b4db-0b03a721e424",
   "metadata": {},
   "outputs": [],
   "source": [
    "lower_bound = np.percentile(resampled_proportions, 2.5)\n",
    "higher_bound = np.percentile(resampled_proportions, 97.5)"
   ]
  },
  {
   "cell_type": "code",
   "execution_count": 126,
   "id": "6eb3ce25-9fd2-4343-b9aa-ccfa57d66121",
   "metadata": {},
   "outputs": [
    {
     "name": "stdout",
     "output_type": "stream",
     "text": [
      "95% CI for point estimate 0.2  of returned goods  is [0.05:0.4]\n"
     ]
    }
   ],
   "source": [
    "print(f'95% CI for point estimate {returned_ratio}  of returned goods  is [{lower_bound}:{higher_bound}]')"
   ]
  },
  {
   "cell_type": "code",
   "execution_count": 129,
   "id": "2435ba6f-1e92-4924-a21d-3dcad0d3fb03",
   "metadata": {},
   "outputs": [],
   "source": [
    "lower_bound_percent = (lower_bound/20) *100\n",
    "higher_bound_percent = (higher_bound/20) *100"
   ]
  },
  {
   "cell_type": "code",
   "execution_count": 130,
   "id": "b16624d3-b3d2-4edd-bc76-a93c0d27d782",
   "metadata": {},
   "outputs": [
    {
     "data": {
      "text/plain": [
       "np.float64(0.25)"
      ]
     },
     "execution_count": 130,
     "metadata": {},
     "output_type": "execute_result"
    }
   ],
   "source": [
    "lower_bound_percent"
   ]
  },
  {
   "cell_type": "code",
   "execution_count": 131,
   "id": "273a96bd-c12c-49a5-9635-4a2b8f8aa93d",
   "metadata": {},
   "outputs": [
    {
     "data": {
      "text/plain": [
       "np.float64(2.0)"
      ]
     },
     "execution_count": 131,
     "metadata": {},
     "output_type": "execute_result"
    }
   ],
   "source": [
    "higher_bound_percent"
   ]
  },
  {
   "cell_type": "markdown",
   "id": "5fe88ffb-41d7-4371-8587-cb520ef58b35",
   "metadata": {},
   "source": [
    "calculating CI using formula"
   ]
  },
  {
   "cell_type": "markdown",
   "id": "137b92b8-f96b-4b4c-bf3c-109ad400d18d",
   "metadata": {},
   "source": [
    "Формула Вальда:\n",
    "p̂ ± z × SE"
   ]
  },
  {
   "cell_type": "code",
   "execution_count": 135,
   "id": "2b9f4fbf-cca2-4dcd-a904-e91c415c9198",
   "metadata": {},
   "outputs": [],
   "source": [
    "n = 20\n",
    "x = 4\n",
    "p_hat = x / n\n",
    "z = stats.norm.ppf(0.975)\n",
    "se = np.sqrt(p_hat * (1 - p_hat) / n)\n",
    "lower_wald = max(0, p_hat - z * se)\n",
    "upper_wald = min(1, p_hat + z * se)\n"
   ]
  },
  {
   "cell_type": "code",
   "execution_count": 136,
   "id": "95d7fb98-d1b7-436b-ad8c-4a102b7c2475",
   "metadata": {},
   "outputs": [
    {
     "data": {
      "text/plain": [
       "np.float64(0.024695491884683674)"
      ]
     },
     "execution_count": 136,
     "metadata": {},
     "output_type": "execute_result"
    }
   ],
   "source": [
    "lower_wald"
   ]
  },
  {
   "cell_type": "code",
   "execution_count": 137,
   "id": "4d4fd9b9-06cf-48de-9ffe-b9f68b267165",
   "metadata": {},
   "outputs": [
    {
     "data": {
      "text/plain": [
       "np.float64(0.37530450811531635)"
      ]
     },
     "execution_count": 137,
     "metadata": {},
     "output_type": "execute_result"
    }
   ],
   "source": [
    "upper_wald"
   ]
  },
  {
   "cell_type": "code",
   "execution_count": 138,
   "id": "eec6c988-e90b-4555-89e9-1ceec2442a85",
   "metadata": {},
   "outputs": [],
   "source": [
    "z = stats.norm.ppf(0.975)"
   ]
  },
  {
   "cell_type": "code",
   "execution_count": 139,
   "id": "c5b955e4-52d4-4d0f-951b-4f75b4421771",
   "metadata": {},
   "outputs": [
    {
     "data": {
      "text/plain": [
       "np.float64(1.959963984540054)"
      ]
     },
     "execution_count": 139,
     "metadata": {},
     "output_type": "execute_result"
    }
   ],
   "source": [
    "z"
   ]
  },
  {
   "cell_type": "code",
   "execution_count": null,
   "id": "ad007abb-8f55-4c87-be6b-9319c5cac0dc",
   "metadata": {},
   "outputs": [],
   "source": []
  }
 ],
 "metadata": {
  "kernelspec": {
   "display_name": "Python 3 (ipykernel)",
   "language": "python",
   "name": "python3"
  },
  "language_info": {
   "codemirror_mode": {
    "name": "ipython",
    "version": 3
   },
   "file_extension": ".py",
   "mimetype": "text/x-python",
   "name": "python",
   "nbconvert_exporter": "python",
   "pygments_lexer": "ipython3",
   "version": "3.12.7"
  }
 },
 "nbformat": 4,
 "nbformat_minor": 5
}
