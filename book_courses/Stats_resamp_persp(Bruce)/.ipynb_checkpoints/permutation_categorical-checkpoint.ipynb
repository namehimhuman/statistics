{
 "cells": [
  {
   "cell_type": "code",
   "execution_count": 7,
   "id": "fa9a9cfb-84a4-4c0f-9910-171d41646ea9",
   "metadata": {},
   "outputs": [],
   "source": [
    "import pandas as pd\n",
    "import numpy as np\n",
    "import matplotlib.pyplot as plt"
   ]
  },
  {
   "cell_type": "code",
   "execution_count": 8,
   "id": "0d724504-f9d8-40bc-bc03-ef83861f01f7",
   "metadata": {},
   "outputs": [],
   "source": [
    "df = pd.DataFrame({'female':[94, 299, 393], 'male':[53, 138, 191], 'all':[147, 437, 584]}, index = ['admitted', 'rejected', 'all'])"
   ]
  },
  {
   "cell_type": "code",
   "execution_count": 9,
   "id": "037acbb3-af67-4379-9669-e83e7c26f26b",
   "metadata": {},
   "outputs": [
    {
     "data": {
      "text/html": [
       "<div>\n",
       "<style scoped>\n",
       "    .dataframe tbody tr th:only-of-type {\n",
       "        vertical-align: middle;\n",
       "    }\n",
       "\n",
       "    .dataframe tbody tr th {\n",
       "        vertical-align: top;\n",
       "    }\n",
       "\n",
       "    .dataframe thead th {\n",
       "        text-align: right;\n",
       "    }\n",
       "</style>\n",
       "<table border=\"1\" class=\"dataframe\">\n",
       "  <thead>\n",
       "    <tr style=\"text-align: right;\">\n",
       "      <th></th>\n",
       "      <th>female</th>\n",
       "      <th>male</th>\n",
       "      <th>all</th>\n",
       "    </tr>\n",
       "  </thead>\n",
       "  <tbody>\n",
       "    <tr>\n",
       "      <th>admitted</th>\n",
       "      <td>94</td>\n",
       "      <td>53</td>\n",
       "      <td>147</td>\n",
       "    </tr>\n",
       "    <tr>\n",
       "      <th>rejected</th>\n",
       "      <td>299</td>\n",
       "      <td>138</td>\n",
       "      <td>437</td>\n",
       "    </tr>\n",
       "    <tr>\n",
       "      <th>all</th>\n",
       "      <td>393</td>\n",
       "      <td>191</td>\n",
       "      <td>584</td>\n",
       "    </tr>\n",
       "  </tbody>\n",
       "</table>\n",
       "</div>"
      ],
      "text/plain": [
       "          female  male  all\n",
       "admitted      94    53  147\n",
       "rejected     299   138  437\n",
       "all          393   191  584"
      ]
     },
     "execution_count": 9,
     "metadata": {},
     "output_type": "execute_result"
    }
   ],
   "source": [
    "df"
   ]
  },
  {
   "cell_type": "code",
   "execution_count": 10,
   "id": "72ad3770-33de-4093-8282-ecac7eef83c5",
   "metadata": {},
   "outputs": [
    {
     "data": {
      "text/plain": [
       "np.float64(-0.0383011603586321)"
      ]
     },
     "execution_count": 10,
     "metadata": {},
     "output_type": "execute_result"
    }
   ],
   "source": [
    "# Extract the relevant data\n",
    "female_admitted = df.loc['admitted', 'female']\n",
    "female_total = df.loc['all', 'female']\n",
    "male_admitted = df.loc['admitted', 'male']\n",
    "male_total = df.loc['all', 'male']\n",
    "female_proportion = female_admitted/female_total\n",
    "male_proportion = male_admitted/male_total\n",
    "observed_diff = female_proportion-male_proportion\n",
    "observed_diff\n"
   ]
  },
  {
   "cell_type": "code",
   "execution_count": 11,
   "id": "256fd23c-a22d-4abe-b748-bd6eae4e698b",
   "metadata": {},
   "outputs": [],
   "source": [
    "# Create the combined data pool\n",
    "total_admitted = female_admitted + male_admitted\n",
    "total_applicants = female_total + male_total\n",
    "total_rejected = total_applicants - total_admitted"
   ]
  },
  {
   "cell_type": "code",
   "execution_count": 12,
   "id": "0870cc93-c7a7-48ac-b5e7-6290833e5e2e",
   "metadata": {},
   "outputs": [],
   "source": [
    "def permutation_test(female_total, male_total, total_admitted, total_rejected, n_permutations = 10_000):\n",
    "    # Create a pool of all applicants (1 = admitted, 0 = rejected)\n",
    "    pool = np.concatenate([\n",
    "        np.ones(total_admitted),\n",
    "        np.zeros(total_rejected)\n",
    "    ])\n",
    "    np.random.shuffle(pool)\n",
    "    observed_diff = (female_admitted/female_total) - (male_admitted/male_total)\n",
    "    perm_diffs = []\n",
    "    for _ in range(n_permutations):\n",
    "        np.random.shuffle(pool)\n",
    "        # Split into female and male groups\n",
    "        female_group = pool[:female_total]\n",
    "        male_group = pool[female_total:]\n",
    "        #calculate proportions\n",
    "        female_prop = np.mean(female_group)\n",
    "        male_prop = np.mean(male_group)\n",
    "        #store the difference\n",
    "        perm_diffs.append(female_prop-male_prop)\n",
    "    return np.array(perm_diffs), observed_diff\n",
    "\n",
    "        "
   ]
  },
  {
   "cell_type": "code",
   "execution_count": 13,
   "id": "dd5cf865-a887-4a77-a9e8-cce782918794",
   "metadata": {},
   "outputs": [],
   "source": [
    "perm_diffs, observed_diff = permutation_test(female_total, male_total, total_admitted, total_rejected)"
   ]
  },
  {
   "cell_type": "code",
   "execution_count": 14,
   "id": "6e689fb6-4e3b-4202-8e4c-962ecd49c109",
   "metadata": {},
   "outputs": [],
   "source": [
    "p_value = np.mean(np.abs(perm_diffs) >= np.abs(observed_diff))"
   ]
  },
  {
   "cell_type": "code",
   "execution_count": 15,
   "id": "f5f90db5-eff3-4220-a072-7c4f68279f50",
   "metadata": {},
   "outputs": [
    {
     "data": {
      "text/plain": [
       "np.float64(0.3613)"
      ]
     },
     "execution_count": 15,
     "metadata": {},
     "output_type": "execute_result"
    }
   ],
   "source": [
    "p_value"
   ]
  },
  {
   "cell_type": "code",
   "execution_count": 19,
   "id": "822b9a72-72ed-4421-8cd4-e857d25d8b6a",
   "metadata": {},
   "outputs": [
    {
     "data": {
      "text/plain": [
       "<matplotlib.collections.PathCollection at 0x707a6daf3f20>"
      ]
     },
     "execution_count": 19,
     "metadata": {},
     "output_type": "execute_result"
    },
    {
     "data": {
      "image/png": "[encoded data removed]",
      "text/plain": [
       "<Figure size 640x480 with 1 Axes>"
      ]
     },
     "metadata": {},
     "output_type": "display_data"
    }
   ],
   "source": [
    "plt.hist(perm_diffs, bins=40)\n",
    "plt.scatter(observed_diff, -30, color='red', s=30)"
   ]
  },
  {
   "cell_type": "code",
   "execution_count": null,
   "id": "ff0feb35-e7d3-4ec5-a364-d608b6acaff9",
   "metadata": {},
   "outputs": [],
   "source": []
  }
 ],
 "metadata": {
  "kernelspec": {
   "display_name": "Python 3 (ipykernel)",
   "language": "python",
   "name": "python3"
  },
  "language_info": {
   "codemirror_mode": {
    "name": "ipython",
    "version": 3
   },
   "file_extension": ".py",
   "mimetype": "text/x-python",
   "name": "python",
   "nbconvert_exporter": "python",
   "pygments_lexer": "ipython3",
   "version": "3.12.7"
  }
 },
 "nbformat": 4,
 "nbformat_minor": 5
}
