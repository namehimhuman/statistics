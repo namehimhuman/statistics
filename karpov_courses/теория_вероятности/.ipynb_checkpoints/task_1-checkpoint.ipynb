{
 "cells": [
  {
   "cell_type": "markdown",
   "id": "61bb1bf2-ac49-478d-9a32-b4952838df12",
   "metadata": {},
   "source": [
    "Два человека одновременно стреляют по мишени. Вероятность попадания по мишени у первого стрелка равна 0,5, у второго — 0,8. Какова вероятность того, что в мишени будет только одна пробоина?"
   ]
  },
  {
   "cell_type": "code",
   "execution_count": 3,
   "id": "9336973d-4629-410d-8bfd-f3e66ec524dd",
   "metadata": {},
   "outputs": [],
   "source": [
    "def calculate_probability(p1, p2):\n",
    "        \n",
    "    #вероятности промаха\n",
    "    q1 = 1-p1\n",
    "    q2 = 1-p2\n",
    "    \n",
    "    #вероятность только одного попадания\n",
    "    #случай 1 - попал только первый\n",
    "    case1 = p1*q2\n",
    "    #случай 2 - попал только второй\n",
    "    case2 = p2*q1\n",
    "    \n",
    "    # Общая вероятность (сумма несовместных событий)\n",
    "    total_probability = case1+case2\n",
    "\n",
    "    return total_probability\n",
    "     "
   ]
  },
  {
   "cell_type": "code",
   "execution_count": 4,
   "id": "bb21e705-97f6-44a3-b10b-b823db1eadc3",
   "metadata": {},
   "outputs": [
    {
     "data": {
      "text/plain": [
       "0.5"
      ]
     },
     "execution_count": 4,
     "metadata": {},
     "output_type": "execute_result"
    }
   ],
   "source": [
    "calculate_probability(0.5, 0.8)"
   ]
  },
  {
   "cell_type": "code",
   "execution_count": null,
   "id": "5651de0e-9f12-480e-aa4d-f8571679067f",
   "metadata": {},
   "outputs": [],
   "source": []
  }
 ],
 "metadata": {
  "kernelspec": {
   "display_name": "Python 3 (ipykernel)",
   "language": "python",
   "name": "python3"
  },
  "language_info": {
   "codemirror_mode": {
    "name": "ipython",
    "version": 3
   },
   "file_extension": ".py",
   "mimetype": "text/x-python",
   "name": "python",
   "nbconvert_exporter": "python",
   "pygments_lexer": "ipython3",
   "version": "3.12.7"
  }
 },
 "nbformat": 4,
 "nbformat_minor": 5
}
