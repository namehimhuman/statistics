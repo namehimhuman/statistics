{
 "cells": [
  {
   "cell_type": "code",
   "execution_count": 89,
   "id": "54ed0bab-2456-4018-8df4-1c1b82120194",
   "metadata": {},
   "outputs": [],
   "source": [
    "import numpy as np\n",
    "import pandas as pd\n",
    "import matplotlib.pyplot as plt"
   ]
  },
  {
   "cell_type": "code",
   "execution_count": 9,
   "id": "fb7a9c50-95c2-4241-9e86-9efa3ef18849",
   "metadata": {},
   "outputs": [],
   "source": [
    "url = \"https://raw.githubusercontent.com/dickoa/penguins/master/data/penguins_size.csv\"\n",
    "penguins = pd.read_csv(url)"
   ]
  },
  {
   "cell_type": "code",
   "execution_count": 10,
   "id": "e60c0baa-03fe-4f9b-ac9b-29eccd9d98a7",
   "metadata": {},
   "outputs": [
    {
     "data": {
      "text/html": [
       "<div>\n",
       "<style scoped>\n",
       "    .dataframe tbody tr th:only-of-type {\n",
       "        vertical-align: middle;\n",
       "    }\n",
       "\n",
       "    .dataframe tbody tr th {\n",
       "        vertical-align: top;\n",
       "    }\n",
       "\n",
       "    .dataframe thead th {\n",
       "        text-align: right;\n",
       "    }\n",
       "</style>\n",
       "<table border=\"1\" class=\"dataframe\">\n",
       "  <thead>\n",
       "    <tr style=\"text-align: right;\">\n",
       "      <th></th>\n",
       "      <th>species</th>\n",
       "      <th>island</th>\n",
       "      <th>culmen_length_mm</th>\n",
       "      <th>culmen_depth_mm</th>\n",
       "      <th>flipper_length_mm</th>\n",
       "      <th>body_mass_g</th>\n",
       "      <th>sex</th>\n",
       "    </tr>\n",
       "  </thead>\n",
       "  <tbody>\n",
       "    <tr>\n",
       "      <th>0</th>\n",
       "      <td>Adelie</td>\n",
       "      <td>Torgersen</td>\n",
       "      <td>39.1</td>\n",
       "      <td>18.7</td>\n",
       "      <td>181.0</td>\n",
       "      <td>3750.0</td>\n",
       "      <td>MALE</td>\n",
       "    </tr>\n",
       "    <tr>\n",
       "      <th>1</th>\n",
       "      <td>Adelie</td>\n",
       "      <td>Torgersen</td>\n",
       "      <td>39.5</td>\n",
       "      <td>17.4</td>\n",
       "      <td>186.0</td>\n",
       "      <td>3800.0</td>\n",
       "      <td>FEMALE</td>\n",
       "    </tr>\n",
       "    <tr>\n",
       "      <th>2</th>\n",
       "      <td>Adelie</td>\n",
       "      <td>Torgersen</td>\n",
       "      <td>40.3</td>\n",
       "      <td>18.0</td>\n",
       "      <td>195.0</td>\n",
       "      <td>3250.0</td>\n",
       "      <td>FEMALE</td>\n",
       "    </tr>\n",
       "    <tr>\n",
       "      <th>3</th>\n",
       "      <td>Adelie</td>\n",
       "      <td>Torgersen</td>\n",
       "      <td>NaN</td>\n",
       "      <td>NaN</td>\n",
       "      <td>NaN</td>\n",
       "      <td>NaN</td>\n",
       "      <td>NaN</td>\n",
       "    </tr>\n",
       "    <tr>\n",
       "      <th>4</th>\n",
       "      <td>Adelie</td>\n",
       "      <td>Torgersen</td>\n",
       "      <td>36.7</td>\n",
       "      <td>19.3</td>\n",
       "      <td>193.0</td>\n",
       "      <td>3450.0</td>\n",
       "      <td>FEMALE</td>\n",
       "    </tr>\n",
       "  </tbody>\n",
       "</table>\n",
       "</div>"
      ],
      "text/plain": [
       "  species     island  culmen_length_mm  culmen_depth_mm  flipper_length_mm  \\\n",
       "0  Adelie  Torgersen              39.1             18.7              181.0   \n",
       "1  Adelie  Torgersen              39.5             17.4              186.0   \n",
       "2  Adelie  Torgersen              40.3             18.0              195.0   \n",
       "3  Adelie  Torgersen               NaN              NaN                NaN   \n",
       "4  Adelie  Torgersen              36.7             19.3              193.0   \n",
       "\n",
       "   body_mass_g     sex  \n",
       "0       3750.0    MALE  \n",
       "1       3800.0  FEMALE  \n",
       "2       3250.0  FEMALE  \n",
       "3          NaN     NaN  \n",
       "4       3450.0  FEMALE  "
      ]
     },
     "execution_count": 10,
     "metadata": {},
     "output_type": "execute_result"
    }
   ],
   "source": [
    "penguins.head(5)"
   ]
  },
  {
   "cell_type": "code",
   "execution_count": 45,
   "id": "0f583115-166b-4388-a235-e9381f626231",
   "metadata": {},
   "outputs": [
    {
     "data": {
      "text/html": [
       "<div>\n",
       "<style scoped>\n",
       "    .dataframe tbody tr th:only-of-type {\n",
       "        vertical-align: middle;\n",
       "    }\n",
       "\n",
       "    .dataframe tbody tr th {\n",
       "        vertical-align: top;\n",
       "    }\n",
       "\n",
       "    .dataframe thead th {\n",
       "        text-align: right;\n",
       "    }\n",
       "</style>\n",
       "<table border=\"1\" class=\"dataframe\">\n",
       "  <thead>\n",
       "    <tr style=\"text-align: right;\">\n",
       "      <th></th>\n",
       "      <th>culmen_length_mm</th>\n",
       "      <th>culmen_depth_mm</th>\n",
       "      <th>flipper_length_mm</th>\n",
       "      <th>body_mass_g</th>\n",
       "    </tr>\n",
       "    <tr>\n",
       "      <th>species</th>\n",
       "      <th></th>\n",
       "      <th></th>\n",
       "      <th></th>\n",
       "      <th></th>\n",
       "    </tr>\n",
       "  </thead>\n",
       "  <tbody>\n",
       "    <tr>\n",
       "      <th>Adelie</th>\n",
       "      <td>38.791391</td>\n",
       "      <td>18.346358</td>\n",
       "      <td>189.953642</td>\n",
       "      <td>3700.662252</td>\n",
       "    </tr>\n",
       "    <tr>\n",
       "      <th>Chinstrap</th>\n",
       "      <td>48.833824</td>\n",
       "      <td>18.420588</td>\n",
       "      <td>195.823529</td>\n",
       "      <td>3733.088235</td>\n",
       "    </tr>\n",
       "    <tr>\n",
       "      <th>Gentoo</th>\n",
       "      <td>47.504878</td>\n",
       "      <td>14.982114</td>\n",
       "      <td>217.186992</td>\n",
       "      <td>5076.016260</td>\n",
       "    </tr>\n",
       "  </tbody>\n",
       "</table>\n",
       "</div>"
      ],
      "text/plain": [
       "           culmen_length_mm  culmen_depth_mm  flipper_length_mm  body_mass_g\n",
       "species                                                                     \n",
       "Adelie            38.791391        18.346358         189.953642  3700.662252\n",
       "Chinstrap         48.833824        18.420588         195.823529  3733.088235\n",
       "Gentoo            47.504878        14.982114         217.186992  5076.016260"
      ]
     },
     "execution_count": 45,
     "metadata": {},
     "output_type": "execute_result"
    }
   ],
   "source": [
    "penguins_grouped = penguins.groupby('species').mean(numeric_only=True)\n",
    "penguins_grouped.head(5)"
   ]
  },
  {
   "cell_type": "code",
   "execution_count": 64,
   "id": "8f6bb3f2-5ce7-4ed6-8048-12863d184d56",
   "metadata": {},
   "outputs": [],
   "source": [
    "chinstrap_flippers = np.array(penguins[penguins['species'] == 'Chinstrap']['flipper_length_mm'])\n",
    "gentoo_flippers = np.array(penguins[penguins['species'] == 'Gentoo']['flipper_length_mm'])"
   ]
  },
  {
   "cell_type": "code",
   "execution_count": 109,
   "id": "c2eb2f30-de60-4fee-a089-facb9f9833fc",
   "metadata": {},
   "outputs": [],
   "source": [
    "def permutation_test(sample1, sample2, n_permutations=10000):\n",
    "    \"\"\"\n",
    "    Проводит permutation test для сравнения средних двух выборок\n",
    "    \n",
    "    Parameters:\n",
    "    sample1, sample2: массивы данных\n",
    "    n_permutations: количество перестановок\n",
    "    \n",
    "    Returns:\n",
    "    p_value: p-значение теста\n",
    "    null_distribution: распределение разницы средних при нулевой гипотезе\n",
    "    \"\"\"\n",
    "    sample1_clean = sample1[~np.isnan(sample1)]\n",
    "    sample2_clean = sample2[~np.isnan(sample2)]\n",
    "    # Наблюдаемая разница средних\n",
    "    observed_diff = np.mean(sample1_clean) - np.mean(sample2_clean)\n",
    "    \n",
    "    # Объединяем данные\n",
    "    combined = np.concatenate([sample1_clean, sample2_clean])\n",
    "    \n",
    "    # Сохраняем размеры оригинальных выборок (после удаления NaN)\n",
    "    n1_clean = len(sample1_clean)\n",
    "    n2_clean = len(sample2_clean)\n",
    "    total_clean = n1_clean + n2_clean\n",
    "   \n",
    "    # Массив для хранения разниц средних при перестановках\n",
    "    perm_diffs = []\n",
    "    \n",
    "    # Проводим перестановки\n",
    "    for i in range(n_permutations):\n",
    "        # Перемешиваем данные\n",
    "        np.random.shuffle(combined)\n",
    "        \n",
    "        # Разделяем на две группы\n",
    "        perm_sample1 = combined[:n1_clean]\n",
    "        perm_sample2 = combined[n1_clean:]\n",
    "        \n",
    "        # Вычисляем разницу средних\n",
    "        perm_diff = np.mean(perm_sample1) - np.mean(perm_sample2)\n",
    "        perm_diffs.append(perm_diff)\n",
    "    \n",
    "    # Вычисляем p-value (односторонний тест: sample1 > sample2)\n",
    "    p_value = np.mean(perm_diffs >= observed_diff)\n",
    "    \n",
    "    return p_value, perm_diffs, observed_diff"
   ]
  },
  {
   "cell_type": "code",
   "execution_count": 110,
   "id": "48b16205-a07d-4802-9cd3-412d76be1cf2",
   "metadata": {},
   "outputs": [],
   "source": [
    "p_value, perm_diffs, observed_diff = permutation_test(gentoo_flippers, chinstrap_flippers)"
   ]
  },
  {
   "cell_type": "code",
   "execution_count": 111,
   "id": "47663a5b-741a-406e-ac1a-75764eee7af8",
   "metadata": {},
   "outputs": [
    {
     "data": {
      "text/plain": [
       "(-6.0, 22.0)"
      ]
     },
     "execution_count": 111,
     "metadata": {},
     "output_type": "execute_result"
    },
    {
     "data": {
      "image/png": "[encoded data removed]",
      "text/plain": [
       "<Figure size 640x480 with 1 Axes>"
      ]
     },
     "metadata": {},
     "output_type": "display_data"
    }
   ],
   "source": [
    "plt.hist(perm_diffs, bins=40)\n",
    "plt.scatter(observed_diff, -30,  color = 'red', s=50)\n",
    "plt.xlim(-6,22)"
   ]
  },
  {
   "cell_type": "code",
   "execution_count": 112,
   "id": "cbf2c38c-412b-4347-bdc0-76b949a38480",
   "metadata": {},
   "outputs": [
    {
     "data": {
      "text/plain": [
       "np.float64(21.363462458154004)"
      ]
     },
     "execution_count": 112,
     "metadata": {},
     "output_type": "execute_result"
    }
   ],
   "source": [
    "observed_diff"
   ]
  },
  {
   "cell_type": "code",
   "execution_count": 113,
   "id": "f99f6074-3cbd-4f90-b90c-f28738fcf528",
   "metadata": {},
   "outputs": [
    {
     "data": {
      "text/plain": [
       "np.float64(0.0)"
      ]
     },
     "execution_count": 113,
     "metadata": {},
     "output_type": "execute_result"
    }
   ],
   "source": [
    "p_value"
   ]
  },
  {
   "cell_type": "code",
   "execution_count": null,
   "id": "ab693437-9893-4071-9209-53acd72624c6",
   "metadata": {},
   "outputs": [],
   "source": []
  }
 ],
 "metadata": {
  "kernelspec": {
   "display_name": "Python 3 (ipykernel)",
   "language": "python",
   "name": "python3"
  },
  "language_info": {
   "codemirror_mode": {
    "name": "ipython",
    "version": 3
   },
   "file_extension": ".py",
   "mimetype": "text/x-python",
   "name": "python",
   "nbconvert_exporter": "python",
   "pygments_lexer": "ipython3",
   "version": "3.12.7"
  }
 },
 "nbformat": 4,
 "nbformat_minor": 5
}
